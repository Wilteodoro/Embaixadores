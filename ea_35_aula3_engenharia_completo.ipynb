{
  "metadata": {
    "kernelspec": {
      "name": "python",
      "display_name": "Python (Pyodide)",
      "language": "python"
    },
    "language_info": {
      "codemirror_mode": {
        "name": "python",
        "version": 3
      },
      "file_extension": ".py",
      "mimetype": "text/x-python",
      "name": "python",
      "nbconvert_exporter": "python",
      "pygments_lexer": "ipython3",
      "version": "3.8"
    }
  },
  "nbformat_minor": 5,
  "nbformat": 4,
  "cells": [
    {
      "cell_type": "markdown",
      "source": "# Embaixadores Analytics BB\n\n**Trilha Engenharia**\n\n**Aula 3 - Python para ETL - Parte 1: tipos de objetos**\n\nConceitos teóricos por: Chat GPT (<https://chat.openai.com/>)\n\nExercícios práticos por: Amanda Ramos Coiado\n\n13/06/2023",
      "metadata": {},
      "id": "44b8e216"
    },
    {
      "cell_type": "markdown",
      "source": "## Documentação:\n\nhttps://docs.python.org/pt-br/3/tutorial/ (em português)\n\nhttps://www.w3schools.com/python/default.asp (em inglês)",
      "metadata": {},
      "id": "1de16ace-9527-4843-a9b9-cfb8e89b4ce3"
    },
    {
      "cell_type": "markdown",
      "source": "# Tipos de objetos em Python",
      "metadata": {},
      "id": "f66f7370"
    },
    {
      "cell_type": "markdown",
      "source": "Em Python, existem vários tipos de objetos que podem ser usados para armazenar e manipular dados. Aqui estão alguns dos principais tipos de objetos em Python:\n\n1) Números:\n    - int: números inteiros, como 1, 2, -5, etc.\n    - float: números de ponto flutuante, como 3.14, 2.0, -1.5, etc.\n\n2) Sequências:\n    - str: sequências de caracteres, como \"Olá\", \"mundo\", etc.\n    - list: sequências mutáveis de elementos, como [1, 2, 3], [\"a\", \"b\", \"c\"], etc.\n    - tuple: sequências imutáveis de elementos, como (1, 2, 3), (\"a\", \"b\", \"c\"), etc.\n\n3) Mapeamentos:\n    - dict: coleções de pares chave-valor, como {\"nome\": \"João\", \"idade\": 25}, etc.\n\n4) Booleanos (bool): representa valores lógicos Verdadeiro (True) ou Falso (False).\n\n5) None: representa a ausência de valor ou um valor nulo.",
      "metadata": {},
      "id": "ffc4503f"
    },
    {
      "cell_type": "markdown",
      "source": "## Números: int\n\nFormato **int**: números inteiros, como 1, 2, -5, etc.",
      "metadata": {},
      "id": "fc93173b"
    },
    {
      "cell_type": "code",
      "source": "# definindo uma variável numérica chamada num1\nnum1 = 5",
      "metadata": {
        "trusted": true
      },
      "execution_count": 1,
      "outputs": [],
      "id": "7ae60df2"
    },
    {
      "cell_type": "code",
      "source": "# consultando o tipo: type()\ntype(num1)",
      "metadata": {
        "trusted": true
      },
      "execution_count": 3,
      "outputs": [
        {
          "execution_count": 3,
          "output_type": "execute_result",
          "data": {
            "text/plain": "int"
          },
          "metadata": {}
        }
      ],
      "id": "375b0762"
    },
    {
      "cell_type": "markdown",
      "source": "## Números : float\n\nFormato **float**: números de ponto flutuante, ou seja, com casas decimais, como 3.14, 2.0, -1.5, etc.",
      "metadata": {},
      "id": "9c02135b"
    },
    {
      "cell_type": "code",
      "source": "# definindo variável float (com casas decimais) chamada num2\nnum2 = 1.5",
      "metadata": {
        "trusted": true
      },
      "execution_count": 6,
      "outputs": [],
      "id": "b12f8224"
    },
    {
      "cell_type": "code",
      "source": "# consultando o tipo: type()\ntype(num2)",
      "metadata": {
        "trusted": true
      },
      "execution_count": 7,
      "outputs": [
        {
          "execution_count": 7,
          "output_type": "execute_result",
          "data": {
            "text/plain": "float"
          },
          "metadata": {}
        }
      ],
      "id": "bf4c9f1f"
    },
    {
      "cell_type": "code",
      "source": "# realizando operações: soma\nnum1 + num2",
      "metadata": {
        "trusted": true
      },
      "execution_count": 8,
      "outputs": [
        {
          "execution_count": 8,
          "output_type": "execute_result",
          "data": {
            "text/plain": "6.5"
          },
          "metadata": {}
        }
      ],
      "id": "04464fc1"
    },
    {
      "cell_type": "code",
      "source": "# realizando operações: subtração\nnum1 - num2",
      "metadata": {
        "trusted": true
      },
      "execution_count": 11,
      "outputs": [
        {
          "execution_count": 11,
          "output_type": "execute_result",
          "data": {
            "text/plain": "3.5"
          },
          "metadata": {}
        }
      ],
      "id": "09c5479f"
    },
    {
      "cell_type": "code",
      "source": "# realizando operações: multiplicação\nnum1 * num2",
      "metadata": {
        "trusted": true
      },
      "execution_count": 12,
      "outputs": [
        {
          "execution_count": 12,
          "output_type": "execute_result",
          "data": {
            "text/plain": "7.5"
          },
          "metadata": {}
        }
      ],
      "id": "68d5f636"
    },
    {
      "cell_type": "code",
      "source": "# realizando operações: divisão\nnum1 / num2",
      "metadata": {
        "trusted": true
      },
      "execution_count": 13,
      "outputs": [
        {
          "execution_count": 13,
          "output_type": "execute_result",
          "data": {
            "text/plain": "3.3333333333333335"
          },
          "metadata": {}
        }
      ],
      "id": "180c2cf2"
    },
    {
      "cell_type": "code",
      "source": "# arredondar para duas casas decimais: round(número, dígitos)\nround(num1 / num2, 2)",
      "metadata": {
        "trusted": true
      },
      "execution_count": 14,
      "outputs": [
        {
          "execution_count": 14,
          "output_type": "execute_result",
          "data": {
            "text/plain": "3.33"
          },
          "metadata": {}
        }
      ],
      "id": "3d02f5e8"
    },
    {
      "cell_type": "code",
      "source": "# imprimir a resposta: print()\nprint(num1 * num2)\nprint(num1 / num2)",
      "metadata": {
        "trusted": true
      },
      "execution_count": 16,
      "outputs": [
        {
          "name": "stdout",
          "text": "7.5\n3.3333333333333335\n",
          "output_type": "stream"
        }
      ],
      "id": "a357ea72"
    },
    {
      "cell_type": "code",
      "source": "# imprimir a resposta com texto\n# exemplo 1: print(texto1, texto2, texto3,...)\nprint('A soma dos dois números é: ', num1 + num2)",
      "metadata": {
        "trusted": true
      },
      "execution_count": 17,
      "outputs": [
        {
          "name": "stdout",
          "text": "A soma dos dois números é:  6.5\n",
          "output_type": "stream"
        }
      ],
      "id": "d2ffac62"
    },
    {
      "cell_type": "code",
      "source": "# exemplo2: print(f' texto1 {} texto2 {} texto3 {}')\nprint(f'A soma de {num1} e {num2} é {num1 + num2}')",
      "metadata": {
        "trusted": true
      },
      "execution_count": 18,
      "outputs": [
        {
          "name": "stdout",
          "text": "A soma de 5 e 1.5 é 6.5\n",
          "output_type": "stream"
        }
      ],
      "id": "f042d344"
    },
    {
      "cell_type": "markdown",
      "source": "## Sequências: str\n\nFormato **str**: sequências de caracteres, como \"Olá\", \"mundo\", etc.\n\nPodem ser delimitadas por aspas simples 'a' ou duplas \"a\", desde que você utilize o mesmo formato para delimitar o início e o fim da sequência de caracteres. \n    \n    Exemplo:\n        texto1 = 'Se eu utilizei aspas simples para delimitar o início do texto, posso utilizar \"aspas duplas\" dentro do conteúdo da variável, pois o término somente será sinalizado por outra aspas simples'\n\nAs variáveis do tipo string são consideradas sequências em python pois são tratadas como uma lista de caracteres com possibilidade de iteração.",
      "metadata": {},
      "id": "b5fb3db5"
    },
    {
      "cell_type": "code",
      "source": "# definindo uma variável de texto chamada nome\nnome = 'Patolino'",
      "metadata": {
        "trusted": true
      },
      "execution_count": 20,
      "outputs": [],
      "id": "ecebb466"
    },
    {
      "cell_type": "code",
      "source": "# consultar tipo: type()\ntype(nome)",
      "metadata": {
        "trusted": true
      },
      "execution_count": 21,
      "outputs": [
        {
          "execution_count": 21,
          "output_type": "execute_result",
          "data": {
            "text/plain": "str"
          },
          "metadata": {}
        }
      ],
      "id": "d28be8c2"
    },
    {
      "cell_type": "code",
      "source": "# consultar tamanho: len()\nlen(nome)",
      "metadata": {
        "trusted": true
      },
      "execution_count": 22,
      "outputs": [
        {
          "execution_count": 22,
          "output_type": "execute_result",
          "data": {
            "text/plain": "8"
          },
          "metadata": {}
        }
      ],
      "id": "dd7f4054"
    },
    {
      "cell_type": "code",
      "source": "# iterando e fatiando a sequência de caracteres\n#primeiro caracter\nnome[0]",
      "metadata": {
        "trusted": true
      },
      "execution_count": 23,
      "outputs": [
        {
          "execution_count": 23,
          "output_type": "execute_result",
          "data": {
            "text/plain": "'P'"
          },
          "metadata": {}
        }
      ],
      "id": "8c15a96d"
    },
    {
      "cell_type": "code",
      "source": "# primeiro ao 5º caracter\nnome[0:5]",
      "metadata": {
        "trusted": true
      },
      "execution_count": 24,
      "outputs": [
        {
          "execution_count": 24,
          "output_type": "execute_result",
          "data": {
            "text/plain": "'Patol'"
          },
          "metadata": {}
        }
      ],
      "id": "71f138b8"
    },
    {
      "cell_type": "code",
      "source": "# 6º caracter até o último\nnome[5:]",
      "metadata": {
        "trusted": true
      },
      "execution_count": 25,
      "outputs": [
        {
          "execution_count": 25,
          "output_type": "execute_result",
          "data": {
            "text/plain": "'ino'"
          },
          "metadata": {}
        }
      ],
      "id": "75c4faae"
    },
    {
      "cell_type": "code",
      "source": "# último caracter\nnome[-1]",
      "metadata": {
        "trusted": true
      },
      "execution_count": 26,
      "outputs": [
        {
          "execution_count": 26,
          "output_type": "execute_result",
          "data": {
            "text/plain": "'o'"
          },
          "metadata": {}
        }
      ],
      "id": "fc94b672"
    },
    {
      "cell_type": "code",
      "source": "# dois últimos caracteres\nnome[-2:]",
      "metadata": {
        "trusted": true
      },
      "execution_count": 27,
      "outputs": [
        {
          "execution_count": 27,
          "output_type": "execute_result",
          "data": {
            "text/plain": "'no'"
          },
          "metadata": {}
        }
      ],
      "id": "79545430"
    },
    {
      "cell_type": "code",
      "source": "# obter valores: input()\n# atribuir para uma variável chamada nome_completo\n# no lablite, utilize await input()\nnome_completo = await input('Qual o seu nome completo?')",
      "metadata": {
        "trusted": true
      },
      "execution_count": 35,
      "outputs": [
        {
          "output_type": "stream",
          "name": "stdin",
          "text": "Qual o seu nome completo? John Wick\n"
        }
      ],
      "id": "8e5b2851"
    },
    {
      "cell_type": "code",
      "source": "# retornar os dois primeiros e dois últimos caracteres\nprint('Primeiros Caracteres:', nome_completo[0:2])\nprint('Últimos Caracteres:', nome_completo[-2:])",
      "metadata": {
        "trusted": true
      },
      "execution_count": 37,
      "outputs": [
        {
          "name": "stdout",
          "text": "Primeiros Caracteres: Jo\nÚltimos Caracteres: ck\n",
          "output_type": "stream"
        }
      ],
      "id": "53390b21"
    },
    {
      "cell_type": "code",
      "source": "# tranformar todos os caracteres em minúsculos: método .lower()\nnome_completo = nome_completo.lower()",
      "metadata": {
        "trusted": true
      },
      "execution_count": 43,
      "outputs": [],
      "id": "ef1b9faa"
    },
    {
      "cell_type": "code",
      "source": "# tranformar todos os caracteres em maiúsculos: método .upper()\nnome_completo.upper()",
      "metadata": {
        "trusted": true
      },
      "execution_count": 41,
      "outputs": [
        {
          "execution_count": 41,
          "output_type": "execute_result",
          "data": {
            "text/plain": "'JOHN WICK'"
          },
          "metadata": {}
        }
      ],
      "id": "ddb02ad6"
    },
    {
      "cell_type": "markdown",
      "source": "### Diferença entre função e método:\n\n**Funções** são blocos de código independentes que podem ser chamados em qualquer lugar. \n\n- Funções não pertencem a nenhum objeto ou instância.\n- Elas podem receber zero ou mais argumentos e podem retornar um valor. \n- Podemos utilizar funções pré-existentes (Exemplos: type(), len(), print(), etc.) ou definir novas utilizando a palavra **def** seguida pelo nome de uma função, uma lista de argumentos opcionais entre parêntese e um bloco de código indentado.\n- As funções podem ser chamadas por seu nome, passando os argumentos necessários (se houver), e podem retornar um valor usando a palavra-chave **return**.\n- Elas são utilizadas para grupar um conjunto de instruções relacionadas em um bloco e permitir sua **reutilização** em diversos momentos.\n\n\nUm **método** é uma função que “pertence” a um objeto específico e opera sobre os dados desse objeto. \n\n- Cada objeto possui seus próprios métodos. Por exemplo, listas possuem os métodos append, insert, remove, sort, entre outros. \n- Os métodos são chamados usando a notação de ponto (**objeto.metodo()**), onde objeto é uma instância da classe que possui o método.\n- Os métodos podem acessar e manipular os atributos do objeto e também podem retornar um valor, se necessário.\n\n",
      "metadata": {},
      "id": "0ab67932"
    },
    {
      "cell_type": "markdown",
      "source": "## Sequências: List\n\nFormato **list**: sequências ou listas de elementos, como [1, 2, 3], [\"a\", \"b\", \"c\"], etc.\n\n## Principais características\n\n1) É caracterizada por utilização de chaves [ ]\n2) Os elementos são sepadados por vírgula\n3) Aceita elementos de todos os tipos, inclusive tipos variáveis numa mesma lista\n4) São mutáveis\n\n## Exemplos de funções e métodos\n\n- função **len()** - retorna a quantidade de itens da lista\n- operação de indexação **[]** - usado para acessar elementos individuais em uma lista, com base em seus índices. O primeiro elemento tem o índice 0, o segundo tem o índice 1 e assim por diante.\n- operação de fatiamento **[:]** - permite extrair uma porção (sublista) de uma lista com base em intervalos de índices.\n- métodos de adição e remoção\n    - **append()** - adiciona um elemento ao final da lista.\n    - **insert(posição, elemento)** - insere um elemento em uma posição específica da lista.\n    - **extend()** - adiciona múltiplos elementos (ou outra lista) ao final da lista.\n    - **remove(posição, elemento)** - remove o primeiro elemento com um valor específico da lista.\n    - **pop(posição)** - remove e retorna um elemento em uma posição específica ou, caso não seja informada a posição, remove o último elemento da lista.\n    - **clear()** - remove todos os elementos da lista.\n- funções **min()** e **max()** - retornam o menor e o maior valor em uma lista, respectivamente\n- função **sum()** - retorna a soma de todos os elementos em uma lista de números.\n- função **sort()** - ordena os elementos em uma lista",
      "metadata": {},
      "id": "efd017ec"
    },
    {
      "cell_type": "code",
      "source": "# criando uma lista de números pares chamada lista1\nlista1 = [2, 4, 6, 8]",
      "metadata": {
        "trusted": true
      },
      "execution_count": 45,
      "outputs": [],
      "id": "6e2637be"
    },
    {
      "cell_type": "code",
      "source": "# visualizando o tipo: type()\ntype(lista1)",
      "metadata": {
        "trusted": true
      },
      "execution_count": 46,
      "outputs": [
        {
          "execution_count": 46,
          "output_type": "execute_result",
          "data": {
            "text/plain": "list"
          },
          "metadata": {}
        }
      ],
      "id": "db4c05ab"
    },
    {
      "cell_type": "code",
      "source": "# consultar tamanho (quantiadde de elementos): len()\nlen(lista1)",
      "metadata": {
        "trusted": true
      },
      "execution_count": 47,
      "outputs": [
        {
          "execution_count": 47,
          "output_type": "execute_result",
          "data": {
            "text/plain": "4"
          },
          "metadata": {}
        }
      ],
      "id": "48425d25"
    },
    {
      "cell_type": "code",
      "source": "# iterações\n# primeiro elemento\nlista1[0]",
      "metadata": {
        "trusted": true
      },
      "execution_count": 48,
      "outputs": [
        {
          "execution_count": 48,
          "output_type": "execute_result",
          "data": {
            "text/plain": "2"
          },
          "metadata": {}
        }
      ],
      "id": "283053c3"
    },
    {
      "cell_type": "code",
      "source": "# último elemento\nlista1[-1]",
      "metadata": {
        "trusted": true
      },
      "execution_count": 49,
      "outputs": [
        {
          "execution_count": 49,
          "output_type": "execute_result",
          "data": {
            "text/plain": "8"
          },
          "metadata": {}
        }
      ],
      "id": "4cdc0a59"
    },
    {
      "cell_type": "code",
      "source": "# alterar o segundo elemento para o número 8\nlista1[1] = 8\nlista1",
      "metadata": {
        "trusted": true
      },
      "execution_count": 50,
      "outputs": [
        {
          "execution_count": 50,
          "output_type": "execute_result",
          "data": {
            "text/plain": "[2, 8, 6, 8]"
          },
          "metadata": {}
        }
      ],
      "id": "a824db90"
    },
    {
      "cell_type": "code",
      "source": "# acrescentar um elemento: método .append()\nlista1.append(10)\nlista1",
      "metadata": {
        "trusted": true
      },
      "execution_count": 51,
      "outputs": [
        {
          "execution_count": 51,
          "output_type": "execute_result",
          "data": {
            "text/plain": "[2, 8, 6, 8, 10]"
          },
          "metadata": {}
        }
      ],
      "id": "70243c1f"
    },
    {
      "cell_type": "code",
      "source": "# inserir um elemento na terceira posição da lista: método .insert(posição, elemento)\nlista1.insert(2, -2)",
      "metadata": {
        "trusted": true
      },
      "execution_count": 53,
      "outputs": [],
      "id": "0f33f7b5"
    },
    {
      "cell_type": "code",
      "source": "lista1",
      "metadata": {
        "trusted": true
      },
      "execution_count": 54,
      "outputs": [
        {
          "execution_count": 54,
          "output_type": "execute_result",
          "data": {
            "text/plain": "[2, 8, -2, 6, 8, 10]"
          },
          "metadata": {}
        }
      ],
      "id": "9a68fdcd-782c-40e4-a3d3-6d8921b16786"
    },
    {
      "cell_type": "code",
      "source": "# remover o elemento com valor 8: método .remove(elemento)\nlista1.remove(8)\nlista1",
      "metadata": {
        "trusted": true
      },
      "execution_count": 55,
      "outputs": [
        {
          "execution_count": 55,
          "output_type": "execute_result",
          "data": {
            "text/plain": "[2, -2, 6, 8, 10]"
          },
          "metadata": {}
        }
      ],
      "id": "5e57ff55"
    },
    {
      "cell_type": "code",
      "source": "# remover o último elemento: método .pop(posição)\nlista1.pop(-1)\nlista1",
      "metadata": {
        "trusted": true
      },
      "execution_count": 56,
      "outputs": [
        {
          "execution_count": 56,
          "output_type": "execute_result",
          "data": {
            "text/plain": "[2, -2, 6, 8]"
          },
          "metadata": {}
        }
      ],
      "id": "62488918"
    },
    {
      "cell_type": "code",
      "source": "# contar quantas vezes o número 2 aparece: método count()\nlista1.count(2)",
      "metadata": {
        "trusted": true
      },
      "execution_count": 57,
      "outputs": [
        {
          "execution_count": 57,
          "output_type": "execute_result",
          "data": {
            "text/plain": "1"
          },
          "metadata": {}
        }
      ],
      "id": "1cc57db0"
    },
    {
      "cell_type": "code",
      "source": "# criar outra lista chamada lista2\n# concatenar duas listas: lista1 + lista2\nlista2 = [1, 3, 5, 7]\nlista = lista1 + lista2",
      "metadata": {
        "trusted": true
      },
      "execution_count": 59,
      "outputs": [
        {
          "execution_count": 59,
          "output_type": "execute_result",
          "data": {
            "text/plain": "[2, -2, 6, 8, 1, 3, 5, 7]"
          },
          "metadata": {}
        }
      ],
      "id": "9666cb25"
    },
    {
      "cell_type": "code",
      "source": "# ordenar valores: método .sort()\nlista = lista1 + lista2\nlista.sort()",
      "metadata": {
        "trusted": true
      },
      "execution_count": 60,
      "outputs": [],
      "id": "e91818d2"
    },
    {
      "cell_type": "code",
      "source": "lista",
      "metadata": {
        "trusted": true
      },
      "execution_count": 61,
      "outputs": [
        {
          "execution_count": 61,
          "output_type": "execute_result",
          "data": {
            "text/plain": "[-2, 1, 2, 3, 5, 6, 7, 8]"
          },
          "metadata": {}
        }
      ],
      "id": "5a5e7e9a-aa93-45ac-aca2-dc8e76884df9"
    },
    {
      "cell_type": "code",
      "source": "# somar: sum()\nsum(lista)",
      "metadata": {
        "trusted": true
      },
      "execution_count": 62,
      "outputs": [
        {
          "execution_count": 62,
          "output_type": "execute_result",
          "data": {
            "text/plain": "30"
          },
          "metadata": {}
        }
      ],
      "id": "74ab851d"
    },
    {
      "cell_type": "code",
      "source": "# calcular média\nsum(lista) / len(lista)",
      "metadata": {
        "trusted": true
      },
      "execution_count": 63,
      "outputs": [
        {
          "execution_count": 63,
          "output_type": "execute_result",
          "data": {
            "text/plain": "3.75"
          },
          "metadata": {}
        }
      ],
      "id": "9244a2a0"
    },
    {
      "cell_type": "code",
      "source": "# mínimo é máximo valor: min() e max()\nprint(min(lista))\nprint(max(lista))",
      "metadata": {
        "trusted": true
      },
      "execution_count": 64,
      "outputs": [
        {
          "name": "stdout",
          "text": "-2\n8\n",
          "output_type": "stream"
        }
      ],
      "id": "5ef901d2"
    },
    {
      "cell_type": "code",
      "source": "# limpar a lista: método .clear()\nlista.clear()\nlista",
      "metadata": {
        "trusted": true
      },
      "execution_count": 65,
      "outputs": [
        {
          "execution_count": 65,
          "output_type": "execute_result",
          "data": {
            "text/plain": "[]"
          },
          "metadata": {}
        }
      ],
      "id": "d8bcdb5f"
    },
    {
      "cell_type": "markdown",
      "source": "## Exercício de tratamento de string como lista",
      "metadata": {},
      "id": "7d5e5d95"
    },
    {
      "cell_type": "code",
      "source": "# separar uma variável string: método .split()\nnome_completo.split()",
      "metadata": {
        "trusted": true
      },
      "execution_count": 68,
      "outputs": [
        {
          "execution_count": 68,
          "output_type": "execute_result",
          "data": {
            "text/plain": "['john', 'wick']"
          },
          "metadata": {}
        }
      ],
      "id": "3c555efd"
    },
    {
      "cell_type": "code",
      "source": "# desafio: pedir para o usuário digitar um nome\n# retornar as informações: primeiro nome, último nome, total de nomes\nnome_completo = await input(\"Qual o seu nome completo? \")",
      "metadata": {
        "trusted": true
      },
      "execution_count": 209,
      "outputs": [
        {
          "output_type": "stream",
          "name": "stdin",
          "text": "Qual o seu nome completo?  Bob Esponja Calça Quadrada\n"
        }
      ],
      "id": "aa59eeb0"
    },
    {
      "cell_type": "code",
      "source": "lista_nome = nome_completo.split()\nprint(\"Primeiro nome: \", lista_nome[0])\nprint(\"Último nome: \", lista_nome[-1])\nprint(\"Total de nomes: \", len(lista_nome))",
      "metadata": {
        "trusted": true
      },
      "execution_count": 210,
      "outputs": [
        {
          "name": "stdout",
          "text": "Primeiro nome:  Bob\nÚltimo nome:  Quadrada\nTotal de nomes:  4\n",
          "output_type": "stream"
        }
      ],
      "id": "dc4d2069-c434-43af-aaa7-3b0fed497311"
    },
    {
      "cell_type": "markdown",
      "source": "# Sequências: Tuple\n\nFormado **tuple** ou tupla: sequências imutáveis de elementos, como (1, 2, 3), (\"a\", \"b\", \"c\"), etc.\n\n## Principais características:\n\n1) São imutáveis\n2) É caracterizada por utilização de parênteses ( )\n3) Os elementos são sepadados por vírgula\n4) Aceita elementos de todos os tipos, inclusive tipos variáveis numa mesma lista\n\nSua imutabilidade oferece vantagens em determinados cenários, como quando você precisa garantir que os dados não sejam alterados acidentalmente.\n\n## Exemplos funções e métodos:\n- função **len()** - retorna a quantidade de itens da tupla\n- operação de indexação **[]** - usado para acessar elementos individuais em uma tupla, com base em seus índices. O primeiro elemento tem o índice 0, o segundo tem o índice 1 e assim por diante.\n- operação de fatiamento **[:]** - permite extrair uma porção (sublista) de uma tupla com base em intervalos de índices.\n- funções **min()** e **max()** - retornam o menor e o maior valor em uma tupla, respectivamente\n- função **sum()** - retorna a soma de todos os elementos em uma tupla numérica.",
      "metadata": {
        "tags": []
      },
      "id": "4d0741d1"
    },
    {
      "cell_type": "code",
      "source": "# exemplo de atribuição de tipos diversos para uma tupla\ntupla = (42, 'mochileiro', True)",
      "metadata": {
        "trusted": true
      },
      "execution_count": 69,
      "outputs": [],
      "id": "6fdfb4fc"
    },
    {
      "cell_type": "code",
      "source": "# consultar tipo da variável\ntype(tupla)",
      "metadata": {
        "trusted": true
      },
      "execution_count": 70,
      "outputs": [
        {
          "execution_count": 70,
          "output_type": "execute_result",
          "data": {
            "text/plain": "tuple"
          },
          "metadata": {}
        }
      ],
      "id": "1a818b56"
    },
    {
      "cell_type": "code",
      "source": "# consultar tipo dos itens individualmente\nprint(type(tupla[0]))\nprint(type(tupla[1]))\nprint(type(tupla[2]))",
      "metadata": {
        "trusted": true
      },
      "execution_count": 71,
      "outputs": [
        {
          "name": "stdout",
          "text": "<class 'int'>\n<class 'str'>\n<class 'bool'>\n",
          "output_type": "stream"
        }
      ],
      "id": "649ae2aa"
    },
    {
      "cell_type": "code",
      "source": "# não é possível alterar o valor\n# tupla[0] = 0",
      "metadata": {
        "trusted": true
      },
      "execution_count": 73,
      "outputs": [],
      "id": "b9646244"
    },
    {
      "cell_type": "code",
      "source": "#seria necessário sobrepor a existente ou criar uma nova tupla\ntupla = (0, 'mochileiro', True)",
      "metadata": {
        "trusted": true
      },
      "execution_count": 74,
      "outputs": [],
      "id": "5e5257e3"
    },
    {
      "cell_type": "markdown",
      "source": "# Mapeamentos: Dict\n\nFormato **dict** ou dicionário de dados: coleções de pares chave-valor, como {\"nome\": \"João\", \"idade\": 25}, etc.\n\n## Principais características:\n\n1) É caracterizada por utilização de colchetes: **{ }**\n2) A atribuição de valores é representada por dois pontos **{ chave : valor }**\n2) Os elementos são sepadados por vírgula **{ chave1 : valor1, chave2 : valor 2 }**\n3) **Estrutura de chave-valor:** um dicionário é uma estrutura de dados que armazena pares de chave-valor. Cada chave é única no dicionário e está associada a um valor específico. As chaves são usadas para acessar e recuperar os valores correspondentes.\n4) **Mutabilidade:** é possível adicionar, modificar ou remover pares chave-valor após sua criação.\n5) **Ordenação:** ordem de inserção é preservada nos dicionários. No entanto, diferentemente de listas e tuplas, os dicionários não são indexados.\n6) **Chaves únicas:** cada chave em um dicionário deve ser única. Se você adicionar uma chave que já existe, o valor correspondente será substituído pelo novo valor.\n7) **Heterogeneidade:** os valores em um dicionário podem ser de qualquer tipo de dado, incluindo tipos básicos como inteiros, strings, floats, bem como listas, tuplas, dicionários e até mesmo objetos personalizados.\n\nOs dicionários são amplamente utilizados em Python devido à sua flexibilidade e eficiência para acessar e recuperar valores com base em chaves. Eles são particularmente úteis quando você precisa associar informações relacionadas, como dados de um banco de dados, configurações ou mapeamentos de dados complexos.\n\n## Exemplos funções e métodos:\n\n- função **len()** - retorna a quantidade de itens do dicionário\n- operação de indexação **[]** - é usado para acessar o valor associado a uma chave específica em um dicionário\n- métodos \n    - **keys()** - retorna uma lista com todas as chaves do dicionário.\n    - **values()** - retorna uma lista com todos os valores do dicionário.\n    - **items()** - retorna uma lista de tuplas, em que cada tupla contém um par chave-valor do dicionário.\n    - **get(chave, valor_padrão)** - retorna o valor associado a uma chave no dicionário. Se a chave não existir, insere a chave com o valor padrão.\n    - **setdefault(chave, valor_padrao)** -  retorna o valor associado a uma chave no dicionário. Se a chave não existir, insere a chave com o valor padrão fornecido.\n    - **pop(chave)** - remove e retorna o valor associado a uma chave no dicionário.\n    - **popitem()** - remove e retorna um par chave-valor arbitrário do dicionário.",
      "metadata": {},
      "id": "27843a7a"
    },
    {
      "cell_type": "code",
      "source": "# criar um dicionário chamado dict1\n# com as informações de matrícula e nome\n# informar a matrícula como chave\n# 'F1234567' : 'Amanda Coiado', 'F2345678' : 'Rosa de Sarom'\ndict1 = {'F1234567' : 'Amanda Coiado', 'F2345678' : 'Rosa de Sarom'}",
      "metadata": {
        "trusted": true
      },
      "execution_count": 79,
      "outputs": [],
      "id": "06f40c88"
    },
    {
      "cell_type": "code",
      "source": "# verificar quantidade de elementos (chaves distintas): len()\nlen(dict1)",
      "metadata": {
        "trusted": true
      },
      "execution_count": 80,
      "outputs": [
        {
          "execution_count": 80,
          "output_type": "execute_result",
          "data": {
            "text/plain": "2"
          },
          "metadata": {}
        }
      ],
      "id": "3bd57678"
    },
    {
      "cell_type": "code",
      "source": "# incluir novo registro\n# 'F3456789' = 'Tania Makyiama'\ndict1['F3456789'] = 'Tania Makyiama'\ndict1",
      "metadata": {
        "trusted": true
      },
      "execution_count": 81,
      "outputs": [
        {
          "execution_count": 81,
          "output_type": "execute_result",
          "data": {
            "text/plain": "{'F1234567': 'Amanda Coiado',\n 'F2345678': 'Rosa de Sarom',\n 'F3456789': 'Tania Makyiama'}"
          },
          "metadata": {}
        }
      ],
      "id": "2371e3b5"
    },
    {
      "cell_type": "code",
      "source": "# retornar todas as chaves: método .keys()\ndict1.keys()",
      "metadata": {
        "trusted": true
      },
      "execution_count": 82,
      "outputs": [
        {
          "execution_count": 82,
          "output_type": "execute_result",
          "data": {
            "text/plain": "dict_keys(['F1234567', 'F2345678', 'F3456789'])"
          },
          "metadata": {}
        }
      ],
      "id": "85b064ff"
    },
    {
      "cell_type": "code",
      "source": "# retornar todos os valores: método .values()\ndict1.values()",
      "metadata": {
        "trusted": true
      },
      "execution_count": 83,
      "outputs": [
        {
          "execution_count": 83,
          "output_type": "execute_result",
          "data": {
            "text/plain": "dict_values(['Amanda Coiado', 'Rosa de Sarom', 'Tania Makyiama'])"
          },
          "metadata": {}
        }
      ],
      "id": "f1d3b8ea"
    },
    {
      "cell_type": "code",
      "source": "# pesquisar um valor a partir de uma chave específica\n# F1234567\ndict1['F1234567']",
      "metadata": {
        "trusted": true
      },
      "execution_count": 84,
      "outputs": [
        {
          "execution_count": 84,
          "output_type": "execute_result",
          "data": {
            "text/plain": "'Amanda Coiado'"
          },
          "metadata": {}
        }
      ],
      "id": "3c8296f2"
    },
    {
      "cell_type": "code",
      "source": "# sobrepor o valor dessa chave para 'Amanda Ramos Coiado'\ndict1['F1234567'] = 'Amanda Ramos Coiado'\ndict1",
      "metadata": {
        "trusted": true
      },
      "execution_count": 85,
      "outputs": [
        {
          "execution_count": 85,
          "output_type": "execute_result",
          "data": {
            "text/plain": "{'F1234567': 'Amanda Ramos Coiado',\n 'F2345678': 'Rosa de Sarom',\n 'F3456789': 'Tania Makyiama'}"
          },
          "metadata": {}
        }
      ],
      "id": "374b1ea5"
    },
    {
      "cell_type": "code",
      "source": "# retornar todos os itens cadastrados: método .items()\ndict1.items()",
      "metadata": {
        "trusted": true
      },
      "execution_count": 86,
      "outputs": [
        {
          "execution_count": 86,
          "output_type": "execute_result",
          "data": {
            "text/plain": "dict_items([('F1234567', 'Amanda Ramos Coiado'), ('F2345678', 'Rosa de Sarom'), ('F3456789', 'Tania Makyiama')])"
          },
          "metadata": {}
        }
      ],
      "id": "ce87edba"
    },
    {
      "cell_type": "code",
      "source": "# repare que o conteúdo é exibido no formato de lista com várias tuplas, portanto podemos iterar esse resultado\n# primeiramente transformamos em uma lista chamada itens, utilizando a função list()\nlista3 = list(dict1.items())\nlista3",
      "metadata": {
        "trusted": true
      },
      "execution_count": 88,
      "outputs": [
        {
          "execution_count": 88,
          "output_type": "execute_result",
          "data": {
            "text/plain": "[('F1234567', 'Amanda Ramos Coiado'),\n ('F2345678', 'Rosa de Sarom'),\n ('F3456789', 'Tania Makyiama')]"
          },
          "metadata": {}
        }
      ],
      "id": "e4f77839"
    },
    {
      "cell_type": "code",
      "source": "# depois podemos iterar para acessar o primeiro elemento\n# primeiro item\nlista3[0]",
      "metadata": {
        "trusted": true
      },
      "execution_count": 89,
      "outputs": [
        {
          "execution_count": 89,
          "output_type": "execute_result",
          "data": {
            "text/plain": "('F1234567', 'Amanda Ramos Coiado')"
          },
          "metadata": {}
        }
      ],
      "id": "047879f6"
    },
    {
      "cell_type": "code",
      "source": "# retornar apenas o nome do primeiro item\nlista3[0][1]",
      "metadata": {
        "trusted": true
      },
      "execution_count": 90,
      "outputs": [
        {
          "execution_count": 90,
          "output_type": "execute_result",
          "data": {
            "text/plain": "'Amanda Ramos Coiado'"
          },
          "metadata": {}
        }
      ],
      "id": "0223c424"
    },
    {
      "cell_type": "code",
      "source": "# verificar se determinada matrícula consta no dicionário: método .get(chave, valor_padrão)\n# retornar o valor padrão \"Não cadastrado\" caso não encontre\n# F1234567\ndict1.get('F1234567', 'Não cadastrado')",
      "metadata": {
        "trusted": true
      },
      "execution_count": 93,
      "outputs": [
        {
          "execution_count": 93,
          "output_type": "execute_result",
          "data": {
            "text/plain": "'Amanda Ramos Coiado'"
          },
          "metadata": {}
        }
      ],
      "id": "bc1be1e4"
    },
    {
      "cell_type": "code",
      "source": "# simulando com uma matrícula que não consta no dicionário: F4567891\ndict1.get('F4567891', 'Não cadastrado')",
      "metadata": {
        "trusted": true
      },
      "execution_count": 94,
      "outputs": [
        {
          "execution_count": 94,
          "output_type": "execute_result",
          "data": {
            "text/plain": "'Não cadastrado'"
          },
          "metadata": {}
        }
      ],
      "id": "6db6322f"
    },
    {
      "cell_type": "code",
      "source": "# perceba que o comando acima não alterou o dicionário\n# visualizar dicionário\ndict1",
      "metadata": {
        "trusted": true
      },
      "execution_count": 95,
      "outputs": [
        {
          "execution_count": 95,
          "output_type": "execute_result",
          "data": {
            "text/plain": "{'F1234567': 'Amanda Ramos Coiado',\n 'F2345678': 'Rosa de Sarom',\n 'F3456789': 'Tania Makyiama'}"
          },
          "metadata": {}
        }
      ],
      "id": "c9ca2b19"
    },
    {
      "cell_type": "code",
      "source": "# enquanto o método .get() apenas consulta, \n# o método .setdefault(chave, valor_padrao) inclui o registro com o valor padrão\ndict1.setdefault('F4567891', 'Não cadastrado')\ndict1",
      "metadata": {
        "trusted": true
      },
      "execution_count": 96,
      "outputs": [
        {
          "execution_count": 96,
          "output_type": "execute_result",
          "data": {
            "text/plain": "{'F1234567': 'Amanda Ramos Coiado',\n 'F2345678': 'Rosa de Sarom',\n 'F3456789': 'Tania Makyiama',\n 'F4567891': 'Não cadastrado'}"
          },
          "metadata": {}
        }
      ],
      "id": "1d5a71f4"
    },
    {
      "cell_type": "code",
      "source": "# ordenar registros: sorted()\nsorted(dict1.items())",
      "metadata": {
        "trusted": true
      },
      "execution_count": 101,
      "outputs": [
        {
          "execution_count": 101,
          "output_type": "execute_result",
          "data": {
            "text/plain": "[('F1234567', 'Amanda Ramos Coiado'),\n ('F2345678', 'Rosa de Sarom'),\n ('F3456789', 'Tania Makyiama'),\n ('F4567891', 'Não cadastrado')]"
          },
          "metadata": {}
        }
      ],
      "id": "ecce5128"
    },
    {
      "cell_type": "markdown",
      "source": "# Boolean\n\nValores booleanos, em Python, são um tipo de dado que representa um estado lógico verdadeiro ou falso. O tipo de dado booleano é denominado **bool** e possui dois valores possíveis: **True** (verdadeiro) e **False** (falso).\n\nÉ possível obter valores booleanos por meio de operadores de comparação, como:\n\n- **==** (igual a)\n- **!=** (diferente de)\n- **>** (maior que)\n- **<** (menor que)\n- **>=** (maior ou igual a)\n- **<=** (menor ou igual a)",
      "metadata": {},
      "id": "b4e83be2"
    },
    {
      "cell_type": "code",
      "source": "# definir duas variáveis x e y\nx = 5\ny = 1",
      "metadata": {
        "trusted": true
      },
      "execution_count": 102,
      "outputs": [],
      "id": "7b97a9f5"
    },
    {
      "cell_type": "code",
      "source": "# comparação: igual a\nx == y",
      "metadata": {
        "trusted": true
      },
      "execution_count": 107,
      "outputs": [
        {
          "execution_count": 107,
          "output_type": "execute_result",
          "data": {
            "text/plain": "True"
          },
          "metadata": {}
        }
      ],
      "id": "377257c6"
    },
    {
      "cell_type": "code",
      "source": "# comparação: diferente de\nx != y ",
      "metadata": {
        "trusted": true
      },
      "execution_count": 108,
      "outputs": [
        {
          "execution_count": 108,
          "output_type": "execute_result",
          "data": {
            "text/plain": "True"
          },
          "metadata": {}
        }
      ],
      "id": "25feb3a0"
    },
    {
      "cell_type": "code",
      "source": "# comparação: maior que\nx > y",
      "metadata": {
        "trusted": true
      },
      "execution_count": 109,
      "outputs": [
        {
          "execution_count": 109,
          "output_type": "execute_result",
          "data": {
            "text/plain": "True"
          },
          "metadata": {}
        }
      ],
      "id": "5e87f394"
    },
    {
      "cell_type": "code",
      "source": "# comparação: menor que\nx < y",
      "metadata": {
        "trusted": true
      },
      "execution_count": 110,
      "outputs": [
        {
          "execution_count": 110,
          "output_type": "execute_result",
          "data": {
            "text/plain": "False"
          },
          "metadata": {}
        }
      ],
      "id": "7dbd77f7"
    },
    {
      "cell_type": "code",
      "source": "# comparação: menor ou igual a\nx + y <= y + x",
      "metadata": {
        "trusted": true
      },
      "execution_count": 117,
      "outputs": [
        {
          "execution_count": 117,
          "output_type": "execute_result",
          "data": {
            "text/plain": "True"
          },
          "metadata": {}
        }
      ],
      "id": "e608b348"
    },
    {
      "cell_type": "markdown",
      "source": "# None\n\nFormato **None** ou nenhum: representa a ausência de valor ou um valor nulo.",
      "metadata": {},
      "id": "93d0a9f5"
    },
    {
      "cell_type": "code",
      "source": "# definir uma lista com vários tipos de dados\nteste = [42, 'mochileiro', True, None]",
      "metadata": {
        "trusted": true
      },
      "execution_count": 112,
      "outputs": [],
      "id": "89983690"
    },
    {
      "cell_type": "code",
      "source": "# imprimir os tipos de dados de cada item\nprint(type(teste[0]))\nprint(type(teste[1]))\nprint(type(teste[2]))\nprint(type(teste[3]))",
      "metadata": {
        "trusted": true
      },
      "execution_count": 113,
      "outputs": [
        {
          "name": "stdout",
          "text": "<class 'int'>\n<class 'str'>\n<class 'bool'>\n<class 'NoneType'>\n",
          "output_type": "stream"
        }
      ],
      "id": "2ae7cb44"
    },
    {
      "cell_type": "code",
      "source": "# desafio: refazer o item acima utilizando um laço for\nfor item in teste:\n    print(type(item))",
      "metadata": {
        "trusted": true
      },
      "execution_count": 211,
      "outputs": [
        {
          "name": "stdout",
          "text": "<class 'int'>\n<class 'str'>\n<class 'bool'>\n<class 'NoneType'>\n",
          "output_type": "stream"
        }
      ],
      "id": "a43b817f"
    },
    {
      "cell_type": "code",
      "source": "# ele é considerado um elemento, mesmo estando \"vazio\"\nlen(teste)",
      "metadata": {
        "trusted": true
      },
      "execution_count": 114,
      "outputs": [
        {
          "execution_count": 114,
          "output_type": "execute_result",
          "data": {
            "text/plain": "4"
          },
          "metadata": {}
        }
      ],
      "id": "ce8d1fbd"
    },
    {
      "cell_type": "markdown",
      "source": "## Operadores Lógicos\n\nSão utilizados para verificação de condições e retornar valores booleanos (True/False):\n- **and** (e) - retorna True apenas se ambas as condições forem verdadeiras. Também pode ser representado pelo caracter **&**\n- **or** (ou) - retorna True se pelo menos uma das condições for verdadeira. Também pode ser representado pelo caracter **|**\n- **not** (não) - retorna True para False e retorna False para True. Também pode ser representado pelo caracter **~**",
      "metadata": {},
      "id": "b643cbf5"
    },
    {
      "cell_type": "code",
      "source": "# definir as variáveis x, y e z\nx = -6\ny = -2\nz = 10",
      "metadata": {
        "trusted": true
      },
      "execution_count": 142,
      "outputs": [],
      "id": "66538165"
    },
    {
      "cell_type": "code",
      "source": "# utilizando o operador and\nx > 0 and z > x",
      "metadata": {
        "trusted": true
      },
      "execution_count": 143,
      "outputs": [
        {
          "execution_count": 143,
          "output_type": "execute_result",
          "data": {
            "text/plain": "False"
          },
          "metadata": {}
        }
      ],
      "id": "f7a4ab0a"
    },
    {
      "cell_type": "code",
      "source": "# utilizando o operador or\nx > 0 and z > x or z > y",
      "metadata": {
        "trusted": true
      },
      "execution_count": 144,
      "outputs": [
        {
          "execution_count": 144,
          "output_type": "execute_result",
          "data": {
            "text/plain": "True"
          },
          "metadata": {}
        }
      ],
      "id": "afcb45e8"
    },
    {
      "cell_type": "code",
      "source": "# exemplo de utilização das regras matemáticas de priorização com utilização de parênteses ()\nx > 0 and (z > x or z > y)",
      "metadata": {
        "trusted": true
      },
      "execution_count": 145,
      "outputs": [
        {
          "execution_count": 145,
          "output_type": "execute_result",
          "data": {
            "text/plain": "False"
          },
          "metadata": {}
        }
      ],
      "id": "2c7563c0"
    },
    {
      "cell_type": "code",
      "source": "# utilizando o operador not\nnot x > 0",
      "metadata": {
        "trusted": true
      },
      "execution_count": 146,
      "outputs": [
        {
          "execution_count": 146,
          "output_type": "execute_result",
          "data": {
            "text/plain": "True"
          },
          "metadata": {}
        }
      ],
      "id": "21b6f196"
    },
    {
      "cell_type": "markdown",
      "source": "# Condições\n\nOs valores booleanos são usados em expressões e estruturas de controle para tomar decisões com base em condições. Por exemplo, em uma instrução condicional **if**, o código dentro do bloco de código é executado apenas se a condição for avaliada como **True**. Caso contrário, o bloco de código pode ser ignorado ou outro bloco de código alternativo pode ser executado.\n\nDe modo a facilitar a visualização da sequência de condições e comandos, utilizamos a indentação.",
      "metadata": {},
      "id": "d958ee90"
    },
    {
      "cell_type": "markdown",
      "source": "## Indentação\n\nIndentação, em programação, refere-se à prática de adicionar espaços em branco ou tabulações no início de uma linha de código para definir a estrutura e a organização do código fonte. Em muitas linguagens de programação, incluindo Python, a indentação é uma parte essencial da sintaxe e afeta a forma como o código é interpretado e executado.\n\nEm Python, a indentação é usada para delimitar blocos de código, como o corpo de uma função, um loop (laço), uma estrutura condicional (if-else), entre outros. A indentação consiste em recuar o código por um determinado número de espaços ou tabulações para dentro, geralmente em múltiplos de 2 ou 4 espaços.\n\nA indentação correta é importante em Python porque define a estrutura lógica do programa. Ela permite ao interpretador Python identificar claramente os blocos de código associados e determinar sua relação hierárquica. Por exemplo, em uma estrutura condicional **if-else**, o bloco de código indentado sob o **if** é executado somente se a condição for verdadeira. Se o código não estiver indentado corretamente, pode ocorrer um erro de sintaxe ou o programa pode ter um comportamento inesperado.",
      "metadata": {},
      "id": "2ae7fb97"
    },
    {
      "cell_type": "code",
      "source": "# definir uma variável idade solicitando input do usuário: input()\nidade = await input(\"Qual a sua idade? \")",
      "metadata": {
        "trusted": true
      },
      "execution_count": 147,
      "outputs": [
        {
          "output_type": "stream",
          "name": "stdin",
          "text": "Qual a sua idade?  21\n"
        }
      ],
      "id": "92be822f"
    },
    {
      "cell_type": "code",
      "source": "# verificar o tipo de dado: type()\ntype(idade)",
      "metadata": {
        "trusted": true
      },
      "execution_count": 150,
      "outputs": [
        {
          "execution_count": 150,
          "output_type": "execute_result",
          "data": {
            "text/plain": "str"
          },
          "metadata": {}
        }
      ],
      "id": "6a1664d0"
    },
    {
      "cell_type": "code",
      "source": "# retornar se a pessoa pode ou não pode dirigir\n# primeiro devemos transformar a variável em inteiro: int()\nidade = int(idade)\nif idade >= 18:\n    print(\"Você já pode tirar habilitação!\")\nelse:\n    print(\"Melhor pedir um Uber.\")",
      "metadata": {
        "trusted": true
      },
      "execution_count": 152,
      "outputs": [
        {
          "name": "stdout",
          "text": "Você já pode dirigir!\n",
          "output_type": "stream"
        }
      ],
      "id": "31a754c5"
    },
    {
      "cell_type": "code",
      "source": "# solicitar input para as variáveis idade e habilitacao\nidade = await input(\"Qual a sua idade? \")",
      "metadata": {
        "trusted": true
      },
      "execution_count": 158,
      "outputs": [
        {
          "output_type": "stream",
          "name": "stdin",
          "text": "Qual a sua idade?  16\n"
        }
      ],
      "id": "33c1e668"
    },
    {
      "cell_type": "code",
      "source": "# habilitação\nhabilitacao = await input(\"Já possui habilitação? (S/N) \")",
      "metadata": {
        "trusted": true
      },
      "execution_count": 167,
      "outputs": [
        {
          "output_type": "stream",
          "name": "stdin",
          "text": "Já possui habilitação? (S/N)  s\n"
        }
      ],
      "id": "41669611"
    },
    {
      "cell_type": "code",
      "source": "# retornar se a pessoa pode ou não pode dirigir\nidade = int(idade)\nhabilitacao = habilitacao.upper()\nif idade >= 18 and habilitação == 'S':\n    print(\"Você já pode dirigir!\")\nelif idade >= 18:\n    print(\"Você já pode tirar habilitação!\")\nelse:\n    print(\"Melhor pedir um Uber.\")",
      "metadata": {
        "trusted": true
      },
      "execution_count": 168,
      "outputs": [
        {
          "name": "stdout",
          "text": "Melhor pedir um Uber.\n",
          "output_type": "stream"
        }
      ],
      "id": "0243c8c9"
    },
    {
      "cell_type": "markdown",
      "source": "# Laços\n\nPython oferece diferentes tipos de laços (loops) para iterar sobre sequências, realizar repetições e controlar o fluxo de execução. Aqui estão os principais tipos de laços em Python:\n\n1) Laço **for**: é usado para iterar sobre uma sequência (como uma lista, uma string, um tuple) ou qualquer objeto iterável. Ele executa um bloco de código para cada item na sequência.\n\n    Exemplo:\n\n        for item in sequencia:\n    \n            # bloco de código a ser executado\n</br>\n\n2) Laço **while**: é usado para executar um bloco de código repetidamente enquanto uma condição especificada for verdadeira. A condição é verificada antes de cada iteração.\n\n    Exemplo:\n\n        while condição:\n    \n            # bloco de código a ser executado\n</br>\n\n3) Laço **for** com função **range()**: a função range() é comumente usada em conjunto com o laço for para gerar uma sequência de números. Ela pode ser usada para iterar um número específico de vezes.\n\n    Exemplo:\n\n        for i in range(início, fim, passo):\n        \n            # bloco de código a ser executado\n</br>\nEsses são os tipos de laços mais comumente usados em Python. Cada um deles tem sua própria aplicação e é útil em diferentes situações, dependendo dos requisitos do seu código.",
      "metadata": {},
      "id": "ac341ee0"
    },
    {
      "cell_type": "markdown",
      "source": "## Laço **for** (para cada)",
      "metadata": {},
      "id": "277ab742"
    },
    {
      "cell_type": "markdown",
      "source": "### Exemplo com string",
      "metadata": {},
      "id": "58776096"
    },
    {
      "cell_type": "code",
      "source": "# criar uma variável chamada palavra\npalavra = 'pepino'",
      "metadata": {
        "trusted": true
      },
      "execution_count": 169,
      "outputs": [],
      "id": "7f6b5fbb"
    },
    {
      "cell_type": "code",
      "source": "# imprimir cada letra da palavra separadamente\nfor caracter in palavra:\n    print(letra)",
      "metadata": {
        "trusted": true
      },
      "execution_count": 170,
      "outputs": [
        {
          "name": "stdout",
          "text": "p\ne\np\ni\nn\no\n",
          "output_type": "stream"
        }
      ],
      "id": "2a73ff7f"
    },
    {
      "cell_type": "code",
      "source": "# calcular a quantidade de vogais e consoantes em uma palavra\n# vogais = ['a', 'e', 'i', 'o', 'u']\nvogais = ['a', 'e', 'i', 'o', 'u']\ncont_vogal = 0\nfor caracter in palavra:\n    if caracter in vogais:\n        cont_vogal += 1\nprint(f'A palavra {palavra} tem {cont_vogal} vogais.')",
      "metadata": {
        "trusted": true
      },
      "execution_count": 174,
      "outputs": [
        {
          "name": "stdout",
          "text": "A palavra pepino tem 3 vogais.\n",
          "output_type": "stream"
        }
      ],
      "id": "2edb5c4b"
    },
    {
      "cell_type": "code",
      "source": "# desafio1\n# calcular a quantidade de vogais e consoantes\nvogais = ['a', 'e', 'i', 'o', 'u']\ncont_vogal = 0\ncont_consoante = 0\nfor caracter in palavra:\n    if caracter in vogais:\n        cont_vogal += 1\n    else:\n        cont_consoante += 1\nprint(f'A palavra {palavra} tem {cont_vogal} vogais e {cont_consoante} consoantes.')",
      "metadata": {
        "trusted": true
      },
      "execution_count": 175,
      "outputs": [
        {
          "name": "stdout",
          "text": "A palavra pepino tem 3 vogais e 3 consoantes.\n",
          "output_type": "stream"
        }
      ],
      "id": "a7e1b733"
    },
    {
      "cell_type": "code",
      "source": "# desafio 2\n# calcular a quantidade de vogais e consoantes\n# considerar vogais acentuadas\n# desconsiderar ífem, no caso de palavras compostas por justaposição\n# vogais = ['a', 'á', 'â', 'ã', 'à', 'e', 'é', 'ê', 'i', 'í', 'o', 'ó', 'ô', 'õ', 'u', 'ú', \"ü\"]\npalavra = 'pé-de-moleque'\nvogais = ['a', 'á', 'â', 'ã', 'à', 'e', 'é', 'ê', 'i', 'í', 'o', 'ó', 'ô', 'õ', 'u', 'ú', \"ü\"]\ncont_vogal = 0\ncont_consoante = 0\nfor caracter in palavra:\n    if caracter in vogais:\n        cont_vogal += 1\n    elif caracter not in ('-'):\n        cont_consoante += 1\nprint (\"A palavra\", palavra, \"tem\", cont_vogal, \"vogais e\", cont_consoante, \"consoantes.\")",
      "metadata": {
        "trusted": true
      },
      "execution_count": 176,
      "outputs": [
        {
          "name": "stdout",
          "text": "A palavra pé-de-moleque tem 6 vogais e 5 consoantes.\n",
          "output_type": "stream"
        }
      ],
      "id": "e9e51f63"
    },
    {
      "cell_type": "code",
      "source": "# desafio 3\n# calcular a quantidade de vogais e consoantes\n# considerar vogais acentuadas\n# transformar tudo em minúsculas\n# desconsiderar ífem, no caso de palavras compostas por justaposição\n# exibir as listas de vogais e de carcteres separadamente, em ordem alfabética e sem letras repetidas\n# transformar todas as letras em minúsculas para facilitar a conferência\n\npalavra = palavra.lower()\n# dicionário de letras acentuadas:\nvogais = {'a' : 'a', 'á' : 'a', 'â' : 'a', 'ã' : 'a', 'à' : 'a', \n          'e' : 'e', 'é' : 'e', 'ê' : 'e', \n          'i' : 'i', 'í' : 'i',\n          'o': 'o', 'ó': 'o', 'ô' : 'o', 'õ' : 'o',\n          'u' : 'u', 'ú' : 'u', 'ü' : 'u'}\ncont_vogal = 0\nlista_vogal = []\ncont_consoante = 0\nlista_consoante = []\nfor caracter in palavra:\n    # para cada caracter na palavra, execute a sequência abaixo\n    # verificar se é uma vogal cadastrada no dicionário. Se não for, retorna o caracter '?'\n    caracter2 = vogais.get(caracter, '?')    \n    if caracter2 != '?':\n        # se for uma vogal, executa a sequência abaixo\n        # adiciona no contador de vogais\n        cont_vogal += 1\n        # verificar se a vogal já existe na lista antes de incluir\n        if caracter2 not in lista_vogal:\n            lista_vogal.append(caracter2)\n    elif caracter not in ('-'):\n        # se não for uma vogal nem o caracter '-', executa a sequência abaixo\n        # adiciona no contador de consoante\n        cont_consoante += 1\n        # se for ç, contar como c\n        if caracter == 'ç':\n            caracter = 'c'\n        # verificar se a consoante já existe na lista antes de incluir\n        if caracter not in lista_consoante:\n            lista_consoante.append(caracter)\nprint (\"A palavra\", palavra, \"tem\", cont_vogal, \"vogais e\", cont_consoante, \"consoantes.\")\nprint (\"Vogais: \", sorted(lista_vogal))\nprint (\"Consoantes: \", sorted(lista_consoante))",
      "metadata": {
        "trusted": true
      },
      "execution_count": 177,
      "outputs": [
        {
          "name": "stdout",
          "text": "A palavra pé-de-moleque tem 6 vogais e 5 consoantes.\nVogais:  ['e', 'o', 'u']\nConsoantes:  ['d', 'l', 'm', 'p', 'q']\n",
          "output_type": "stream"
        }
      ],
      "id": "67bfee3a"
    },
    {
      "cell_type": "markdown",
      "source": "## Laço **while** (enquanto)",
      "metadata": {},
      "id": "cee986c9"
    },
    {
      "cell_type": "code",
      "source": "# imprimir uma contagem regressiva de 10 a 0 utilizando o laço while\nnumero = 10\nwhile numero >= 0 :\n    print(numero)\n    numero -= 1",
      "metadata": {
        "trusted": true
      },
      "execution_count": 179,
      "outputs": [
        {
          "name": "stdout",
          "text": "10\n9\n8\n7\n6\n5\n4\n3\n2\n1\n0\n",
          "output_type": "stream"
        }
      ],
      "id": "d222215b"
    },
    {
      "cell_type": "markdown",
      "source": "## Laço **for** com função **range()**\n\nrange(início, fim, passo)\n- início: padrão 0\n- fim: obrigatório. Não incluso.\n- passo: intervalo entre os números",
      "metadata": {},
      "id": "8cfe5440"
    },
    {
      "cell_type": "code",
      "source": "# gerar lista com 10 números: range()\nlista = range(10)",
      "metadata": {
        "trusted": true
      },
      "execution_count": 186,
      "outputs": [],
      "id": "fbfdb5fc"
    },
    {
      "cell_type": "code",
      "source": "# checar quantidade de itens: len()\nlen(lista)",
      "metadata": {
        "trusted": true
      },
      "execution_count": 187,
      "outputs": [
        {
          "execution_count": 187,
          "output_type": "execute_result",
          "data": {
            "text/plain": "10"
          },
          "metadata": {}
        }
      ],
      "id": "0baf4f56"
    },
    {
      "cell_type": "code",
      "source": "# imprimir número por número\nfor numero in lista:\n    print(numero)",
      "metadata": {
        "trusted": true
      },
      "execution_count": 189,
      "outputs": [
        {
          "name": "stdout",
          "text": "0\n1\n2\n3\n4\n5\n6\n7\n8\n9\n",
          "output_type": "stream"
        }
      ],
      "id": "88841c09"
    },
    {
      "cell_type": "code",
      "source": "# imprimir números de 1 a 10:\nfor numero in range(1,11):\n    print(numero)",
      "metadata": {
        "trusted": true
      },
      "execution_count": 191,
      "outputs": [
        {
          "name": "stdout",
          "text": "1\n2\n3\n4\n5\n6\n7\n8\n9\n10\n",
          "output_type": "stream"
        }
      ],
      "id": "5499b841"
    },
    {
      "cell_type": "code",
      "source": "# imprimir números pares de 1 a 10\nfor numero in range (2,11,2):\n    print(numero)",
      "metadata": {
        "trusted": true
      },
      "execution_count": 192,
      "outputs": [
        {
          "name": "stdout",
          "text": "2\n4\n6\n8\n10\n",
          "output_type": "stream"
        }
      ],
      "id": "3a529b23"
    },
    {
      "cell_type": "code",
      "source": "# fazer uma lista dos números de 1 a 10 ao quadrado\nlista=[]\nfor numero in range (1,11):\n    lista.append(numero ** 2)\nlista",
      "metadata": {
        "trusted": true
      },
      "execution_count": 193,
      "outputs": [
        {
          "execution_count": 193,
          "output_type": "execute_result",
          "data": {
            "text/plain": "[1, 4, 9, 16, 25, 36, 49, 64, 81, 100]"
          },
          "metadata": {}
        }
      ],
      "id": "92554a72"
    },
    {
      "cell_type": "markdown",
      "source": "# Funções\n\nEm programação, uma função é um bloco de código que realiza uma tarefa específica e pode ser executado várias vezes em diferentes partes de um programa. As funções são utilizadas para organizar e reutilizar o código, tornando-o mais modular, legível e fácil de manter.\n\nUma função é definida com um nome único e pode receber argumentos (também conhecidos como parâmetros) que são valores fornecidos quando a função é chamada. A função pode realizar uma série de instruções e pode retornar um valor como resultado da sua execução.\n\nAs funções em Python são definidas utilizando a palavra-chave **def**, seguida pelo nome da função, uma lista de argumentos (opcionalmente) entre parênteses e um bloco de código indentado que contém as instruções a serem executadas pela função. O resultado pode ser retornado usando a palavra-chave **return**.\n\nAs funções podem ser usadas para realizar uma variedade de tarefas, desde cálculos matemáticos simples até operações complexas de processamento de dados. Elas ajudam a modularizar o código, promovendo a reutilização e a organização, além de facilitar a manutenção e a compreensão do programa como um todo.",
      "metadata": {},
      "id": "929acca4"
    },
    {
      "cell_type": "code",
      "source": "# transformar o laço de contragem regressiva em uma função\n\ndef contagem_regressiva(numero):\n    numero = int(numero)\n    if not numero > 0:\n        print(\"Por favor, digite um número positivo.\")\n    while numero >= 0 :\n        print(numero)\n        numero -= 1\n",
      "metadata": {
        "trusted": true
      },
      "execution_count": 199,
      "outputs": [],
      "id": "71e203be"
    },
    {
      "cell_type": "code",
      "source": "# pedir um número: input()\nnum = await input (\"Digite um número maior que zero: \")",
      "metadata": {
        "trusted": true
      },
      "execution_count": 205,
      "outputs": [
        {
          "output_type": "stream",
          "name": "stdin",
          "text": "Digite um número maior que zero:  -5\n"
        }
      ],
      "id": "45b10a81"
    },
    {
      "cell_type": "code",
      "source": "# chamar a função passando o número\ncontagem_regressiva(num)",
      "metadata": {
        "trusted": true
      },
      "execution_count": 206,
      "outputs": [
        {
          "name": "stdout",
          "text": "Por favor, digite um número positivo.\n",
          "output_type": "stream"
        }
      ],
      "id": "e9b72a4c"
    },
    {
      "cell_type": "code",
      "source": "# desafio 4\n# transformar o laço de contar vogais/consoantes em uma função\ndef contar_letras(palavra):\n    palavra = palavra.lower()\n    vogais = {'a' : 'a', 'á' : 'a', 'â' : 'a', 'ã' : 'a', 'à' : 'a', \n              'e' : 'e', 'é' : 'e', 'ê' : 'e', \n              'i' : 'i', 'í' : 'i',\n              'o': 'o', 'ó': 'o', 'ô' : 'o', 'õ' : 'o',\n              'u' : 'u', 'ú' : 'u', 'ü' : 'u'}\n    cont_vogal = 0\n    lista_vogal = []\n    cont_consoante = 0\n    lista_consoante = []\n    for caracter in palavra:\n        caracter2 = vogais.get(caracter, '?')\n        if caracter2 != '?':\n            cont_vogal += 1\n            if caracter2 not in lista_vogal:\n                lista_vogal.append(caracter2)\n        elif caracter not in ('-'):\n            cont_consoante += 1\n            if caracter == 'ç':\n                caracter = 'c'\n            if caracter not in lista_consoante:\n                lista_consoante.append(caracter)\n    print (\"A palavra\", palavra, \"tem\", cont_vogal, \"vogais e\", cont_consoante, \"consoantes.\")\n    print (\"Vogais: \", sorted(lista_vogal))\n    print (\"Consoantes: \", sorted(lista_consoante))",
      "metadata": {
        "trusted": true
      },
      "execution_count": 212,
      "outputs": [],
      "id": "70afdb9e"
    },
    {
      "cell_type": "code",
      "source": "contar_letras('pé-de-moleque')",
      "metadata": {
        "trusted": true
      },
      "execution_count": 213,
      "outputs": [
        {
          "name": "stdout",
          "text": "A palavra pé-de-moleque tem 6 vogais e 5 consoantes.\nVogais:  ['e', 'o', 'u']\nConsoantes:  ['d', 'l', 'm', 'p', 'q']\n",
          "output_type": "stream"
        }
      ],
      "id": "0a7e3e95"
    },
    {
      "cell_type": "code",
      "source": "contar_letras('almanaque')",
      "metadata": {
        "trusted": true
      },
      "execution_count": 214,
      "outputs": [
        {
          "name": "stdout",
          "text": "A palavra almanaque tem 5 vogais e 4 consoantes.\nVogais:  ['a', 'e', 'u']\nConsoantes:  ['l', 'm', 'n', 'q']\n",
          "output_type": "stream"
        }
      ],
      "id": "e21d7dc1"
    },
    {
      "cell_type": "code",
      "source": "contar_letras('arco-íris')",
      "metadata": {
        "trusted": true
      },
      "execution_count": 215,
      "outputs": [
        {
          "name": "stdout",
          "text": "A palavra arco-íris tem 4 vogais e 4 consoantes.\nVogais:  ['a', 'i', 'o']\nConsoantes:  ['c', 'r', 's']\n",
          "output_type": "stream"
        }
      ],
      "id": "d3195121-b8cf-483b-a7b6-050b316113e7"
    },
    {
      "cell_type": "code",
      "source": "contar_letras('caçamba')",
      "metadata": {
        "trusted": true
      },
      "execution_count": 216,
      "outputs": [
        {
          "name": "stdout",
          "text": "A palavra caçamba tem 3 vogais e 4 consoantes.\nVogais:  ['a']\nConsoantes:  ['b', 'c', 'm']\n",
          "output_type": "stream"
        }
      ],
      "id": "5e3407a7-c89b-4609-ba08-bdc16e65d0cf"
    },
    {
      "cell_type": "code",
      "source": "",
      "metadata": {},
      "execution_count": null,
      "outputs": [],
      "id": "aa5f1a21-37a9-4c21-a0a7-1f2a955a66b3"
    }
  ]
}