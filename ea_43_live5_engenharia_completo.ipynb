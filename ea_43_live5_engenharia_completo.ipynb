{
  "metadata": {
    "colab": {
      "provenance": []
    },
    "kernelspec": {
      "name": "python",
      "display_name": "Python (Pyodide)",
      "language": "python"
    },
    "language_info": {
      "codemirror_mode": {
        "name": "python",
        "version": 3
      },
      "file_extension": ".py",
      "mimetype": "text/x-python",
      "name": "python",
      "nbconvert_exporter": "python",
      "pygments_lexer": "ipython3",
      "version": "3.8"
    }
  },
  "nbformat_minor": 4,
  "nbformat": 4,
  "cells": [
    {
      "cell_type": "markdown",
      "source": "# Embaixadores Analytics BB\n\n**Trilha Engenharia**\n\n**Aula 3 - Python para ETL - Parte 3: Exercício prático de tratamento de DataFrame da web**\n\nConceitos teóricos por: Chat GPT (<https://chat.openai.com/>)\n\nExercícios práticos por: Amanda Ramos Coiado e Diego Vieira Brilhalva\n\n27/06/2023",
      "metadata": {}
    },
    {
      "cell_type": "markdown",
      "source": "# IDH\n\nO objetivo da criação do Índice de Desenvolvimento Humano foi o de oferecer um contraponto a outro indicador muito utilizado, o Produto Interno Bruto (PIB) per capita, que considera apenas a dimensão econômica do desenvolvimento. \n\nPara nossa anállise do IDH Municipal, vamos utilizar um DataFrame originada da web, obtida no endereço: https://www.undp.org/pt/brazil/idhm-municípios-2010\n\nPor ter sido retirada da web, o DataFrame necessita de alguns tratamentos antes de ficar pronta para uso.",
      "metadata": {}
    },
    {
      "cell_type": "code",
      "source": "import pandas as pd\nimport warnings\nwarnings.filterwarnings('ignore')",
      "metadata": {
        "id": "QBy7V_eS1aFT",
        "trusted": true
      },
      "execution_count": 1,
      "outputs": []
    },
    {
      "cell_type": "markdown",
      "source": "# ETL\n\nETL significa \"Extract, Transform, Load\", que são as três etapas principais do processo de integração de dados.\n\n1) Extract (Extração): Nessa etapa, os dados são obtidos de várias fontes, como bancos de dados, arquivos ou outras fontes de dados. É como pegar informações de diferentes lugares.\n\n2) Transform (Transformação): Depois de extrair os dados, eles passam por transformações. Isso significa que os dados são modificados de alguma forma para que fiquem corretos e se encaixem nas necessidades do sistema ou da análise que será feita posteriormente.\n\n3) Load (Carga): Após a transformação, os dados são carregados em um destino final, como um banco de dados ou um local de armazenamento. É como colocar os dados em um lugar onde possam ser facilmente acessados e usados.\n\nO processo ETL é importante porque permite reunir dados de diferentes fontes, transformá-los para que estejam corretos e, em seguida, carregá-los em um lugar onde possam ser utilizados para análise ou tomada de decisões.\n\nEm resumo, o ETL é o processo de extrair dados de diferentes lugares, transformá-los para que fiquem corretos e carregá-los em um local onde possam ser usados.",
      "metadata": {}
    },
    {
      "cell_type": "markdown",
      "source": "## Extração: Opção 1\n\n### Web Scraping\n\n[Clique aqui](https://www.google.com/url?sa=t&rct=j&q=&esrc=s&source=web&cd=&cad=rja&uact=8&ved=2ahUKEwiz6YGkm6L_AhWlmpUCHUuxBUwQtwJ6BAgMEAI&url=https%3A%2F%2Fwww.youtube.com%2Fwatch%3Fv%3DGSFv2djA-W4&usg=AOvVaw3W1BauQb6HnYUm3o0vxwVH) para assistir a um vídeo sobre verificar permissões antes de fazer web scraping.\n\nPara consultar as permissões do site da undp, verifique o link abaixo:\nhttps://www.undp.org/robots.txt",
      "metadata": {}
    },
    {
      "cell_type": "code",
      "source": "## para rodar no Google Colab\n# !pip install requests\n# import requests\n\n## criar uma variável com a url https://www.undp.org/pt/brazil/idhm-munic%C3%ADpios-2010\n# url = 'https://www.undp.org/pt/brazil/idhm-munic%C3%ADpios-2010'\n\n## obter o conteúdo da página e jogar para uma variável\n# html = requests.get(url).content\n\n## utilizar um analisador (parser) de html para organizar o conteúdo da string\n## atribuir o conteúdo organizado em uma variável chamada soup\n# soup = BeautifulSoup(html, 'html.parser')\n\n## visualizar as classes de tabelas existentes em soup\n# print('Classes of each table:')\n# for table in soup.find_all('table'):\n    # print(table.get('class'))",
      "metadata": {
        "trusted": true
      },
      "execution_count": 2,
      "outputs": []
    },
    {
      "cell_type": "code",
      "source": "## localizar a tabela da classe 'tableizer-table' e jogar para uma variável chamada table\n# table = soup.find('table', class_='tableizer-table')\n\n## coletar os dados e jogar para o novo dataframe\n## primeiro, é necessário localizar todas as linhas\n## o comando \"tr\" indica a mudança de linha em html\n# lista = []\n# for row in table.tbody.find_all('tr'):    \n    \n    ## depois, localizar todas as colunas\n    ## o comando \"td\" indica a mudança de coluna em html\n    # columns = row.find_all('td')\n    \n    ## verificar se há dados nas colunas\n    # if(columns != []):\n      \n      ## jogar o valor de cada coluna para uma lista\n      # cols = [col.text.strip() for col in columns]\n      ## adicionar os valores de cada linha à lista\n      # lista.append(cols)\n    \n## definir um dataframe chamado idh com os nomes das colunas\n# colunas: 'Ranking IDHM 2010', 'Município', 'IDHM 2010', 'IDHM Renda 2010', 'IDHM Longevidade 2010', 'IDHM Educação 2010'\n# idh = pd.DataFrame(lista, columns=['Ranking IDHM 2010', 'Município', 'IDHM 2010', 'IDHM Renda 2010', 'IDHM Longevidade 2010', 'IDHM Educação 2010'])\n# idh.head()",
      "metadata": {
        "trusted": true
      },
      "execution_count": 3,
      "outputs": []
    },
    {
      "cell_type": "markdown",
      "source": "## Extração: Opção 2\n\n### Carregar arquivo idh.csv\n\nNa Plataforma ou no Labblite não é possível fazer Web Scraping, portanto vamos utilizar um arquivo csv contendo o resultado dos comandos acima, ou seja, o DataFrame bruto para efetuarmos eventuais tratamentos dos dados.",
      "metadata": {}
    },
    {
      "cell_type": "code",
      "source": "# Abrir o arquivo idh.csv: pd.read_csv()\nidh = pd.read_csv('idh.csv')\nidh",
      "metadata": {
        "trusted": true
      },
      "execution_count": 36,
      "outputs": [
        {
          "execution_count": 36,
          "output_type": "execute_result",
          "data": {
            "text/plain": "     Ranking IDHM 2010                Município IDHM 2010 IDHM Renda 2010  \\\n0                  1 º  São Caetano do Sul (SP)     0,862           0,891   \n1                  2 º  Águas de São Pedro (SP)     0,854           0,849   \n2                  3 º       Florianópolis (SC)     0,847           0,870   \n3                  4 º  Balneário Camboriú (SC)     0,845           0,854   \n4                  4 º             Vitória (ES)     0,845           0,876   \n...                ...                      ...       ...             ...   \n5560            5560 º            Uiramutã (RR)     0,453           0,439   \n5561            5562 º      Marajá do Sena (MA)     0,452           0,400   \n5562            5563 º    Atalaia do Norte (AM)     0,450           0,481   \n5563            5564 º     Fernando Falcão (MA)     0,443           0,417   \n5564            5565 º             Melgaço (PA)     0,418           0,454   \n\n     IDHM Longevidade 2010 IDHM Educação 2010  \n0                    0,887              0,811  \n1                    0,890              0,825  \n2                    0,873              0,800  \n3                    0,894              0,789  \n4                    0,855              0,805  \n...                    ...                ...  \n5560                 0,766              0,276  \n5561                 0,774              0,299  \n5562                 0,733              0,259  \n5563                 0,728              0,286  \n5564                 0,776              0,207  \n\n[5565 rows x 6 columns]",
            "text/html": "<div>\n<style scoped>\n    .dataframe tbody tr th:only-of-type {\n        vertical-align: middle;\n    }\n\n    .dataframe tbody tr th {\n        vertical-align: top;\n    }\n\n    .dataframe thead th {\n        text-align: right;\n    }\n</style>\n<table border=\"1\" class=\"dataframe\">\n  <thead>\n    <tr style=\"text-align: right;\">\n      <th></th>\n      <th>Ranking IDHM 2010</th>\n      <th>Município</th>\n      <th>IDHM 2010</th>\n      <th>IDHM Renda 2010</th>\n      <th>IDHM Longevidade 2010</th>\n      <th>IDHM Educação 2010</th>\n    </tr>\n  </thead>\n  <tbody>\n    <tr>\n      <th>0</th>\n      <td>1 º</td>\n      <td>São Caetano do Sul (SP)</td>\n      <td>0,862</td>\n      <td>0,891</td>\n      <td>0,887</td>\n      <td>0,811</td>\n    </tr>\n    <tr>\n      <th>1</th>\n      <td>2 º</td>\n      <td>Águas de São Pedro (SP)</td>\n      <td>0,854</td>\n      <td>0,849</td>\n      <td>0,890</td>\n      <td>0,825</td>\n    </tr>\n    <tr>\n      <th>2</th>\n      <td>3 º</td>\n      <td>Florianópolis (SC)</td>\n      <td>0,847</td>\n      <td>0,870</td>\n      <td>0,873</td>\n      <td>0,800</td>\n    </tr>\n    <tr>\n      <th>3</th>\n      <td>4 º</td>\n      <td>Balneário Camboriú (SC)</td>\n      <td>0,845</td>\n      <td>0,854</td>\n      <td>0,894</td>\n      <td>0,789</td>\n    </tr>\n    <tr>\n      <th>4</th>\n      <td>4 º</td>\n      <td>Vitória (ES)</td>\n      <td>0,845</td>\n      <td>0,876</td>\n      <td>0,855</td>\n      <td>0,805</td>\n    </tr>\n    <tr>\n      <th>...</th>\n      <td>...</td>\n      <td>...</td>\n      <td>...</td>\n      <td>...</td>\n      <td>...</td>\n      <td>...</td>\n    </tr>\n    <tr>\n      <th>5560</th>\n      <td>5560 º</td>\n      <td>Uiramutã (RR)</td>\n      <td>0,453</td>\n      <td>0,439</td>\n      <td>0,766</td>\n      <td>0,276</td>\n    </tr>\n    <tr>\n      <th>5561</th>\n      <td>5562 º</td>\n      <td>Marajá do Sena (MA)</td>\n      <td>0,452</td>\n      <td>0,400</td>\n      <td>0,774</td>\n      <td>0,299</td>\n    </tr>\n    <tr>\n      <th>5562</th>\n      <td>5563 º</td>\n      <td>Atalaia do Norte (AM)</td>\n      <td>0,450</td>\n      <td>0,481</td>\n      <td>0,733</td>\n      <td>0,259</td>\n    </tr>\n    <tr>\n      <th>5563</th>\n      <td>5564 º</td>\n      <td>Fernando Falcão (MA)</td>\n      <td>0,443</td>\n      <td>0,417</td>\n      <td>0,728</td>\n      <td>0,286</td>\n    </tr>\n    <tr>\n      <th>5564</th>\n      <td>5565 º</td>\n      <td>Melgaço (PA)</td>\n      <td>0,418</td>\n      <td>0,454</td>\n      <td>0,776</td>\n      <td>0,207</td>\n    </tr>\n  </tbody>\n</table>\n<p>5565 rows × 6 columns</p>\n</div>"
          },
          "metadata": {}
        }
      ]
    },
    {
      "cell_type": "code",
      "source": "# visualizar dataframe criado: .info()\nidh.info()",
      "metadata": {
        "colab": {
          "base_uri": "https://localhost:8080/"
        },
        "id": "SsNJH5iw1kKu",
        "outputId": "af280997-84cc-45c4-9660-45b57dd7778f",
        "trusted": true
      },
      "execution_count": 5,
      "outputs": [
        {
          "name": "stdout",
          "text": "<class 'pandas.core.frame.DataFrame'>\nRangeIndex: 5565 entries, 0 to 5564\nData columns (total 6 columns):\n #   Column                 Non-Null Count  Dtype \n---  ------                 --------------  ----- \n 0   Ranking IDHM 2010      5565 non-null   object\n 1   Município              5565 non-null   object\n 2   IDHM 2010              5565 non-null   object\n 3   IDHM Renda 2010        5565 non-null   object\n 4   IDHM Longevidade 2010  5565 non-null   object\n 5   IDHM Educação 2010     5565 non-null   object\ndtypes: object(6)\nmemory usage: 130.5+ KB\n",
          "output_type": "stream"
        }
      ]
    },
    {
      "cell_type": "markdown",
      "source": "## 1º Passo do Tratamento\n\nSubstituir vírgulas (,) por pontos(.) para possibilitar a alteração do tipo para numérico.",
      "metadata": {}
    },
    {
      "cell_type": "code",
      "source": "# substituir usando: .str.replace()\nidh[\"IDHM 2010\"] = idh[\"IDHM 2010\"].str.replace(\",\", \".\")\nidh[\"IDHM Renda 2010\"] = idh[\"IDHM Renda 2010\"].str.replace(\",\", \".\")\nidh[\"IDHM Longevidade 2010\"] = idh[\"IDHM Longevidade 2010\"].str.replace(\",\", \".\")\nidh[\"IDHM Educação 2010\"] = idh[\"IDHM Educação 2010\"].str.replace(\",\", \".\")",
      "metadata": {
        "id": "95wshoV9H1-t",
        "trusted": true
      },
      "execution_count": 6,
      "outputs": []
    },
    {
      "cell_type": "markdown",
      "source": "## 2º Passo do Tratamento\n\nConverter colunas numéricas para o tipo float.",
      "metadata": {}
    },
    {
      "cell_type": "code",
      "source": "# converter usando .astype(tipo)\n# primeiro para a colula \"IDHM 2010\"\nidh[\"IDHM 2010\"] = idh[\"IDHM 2010\"].astype(float)",
      "metadata": {
        "id": "3Giq9QYiOk6f",
        "trusted": true
      },
      "execution_count": 7,
      "outputs": []
    },
    {
      "cell_type": "code",
      "source": "#converter colunas para float: \"IDHM Renda 2010\"\nidh[\"IDHM Renda 2010\"] = idh[\"IDHM Renda 2010\"].astype(float)",
      "metadata": {
        "colab": {
          "base_uri": "https://localhost:8080/",
          "height": 347
        },
        "id": "08ho6uIJOs3O",
        "outputId": "ec34725f-a06c-40d6-db18-af87f12726aa",
        "trusted": true
      },
      "execution_count": 8,
      "outputs": [
        {
          "ename": "<class 'ValueError'>",
          "evalue": "could not convert string to float: '0.784td>'",
          "traceback": [
            "\u001b[0;31m---------------------------------------------------------------------------\u001b[0m",
            "\u001b[0;31mValueError\u001b[0m                                Traceback (most recent call last)",
            "Cell \u001b[0;32mIn[8], line 2\u001b[0m\n\u001b[1;32m      1\u001b[0m \u001b[38;5;66;03m#converter colunas para float: \"IDHM Renda 2010\"\u001b[39;00m\n\u001b[0;32m----> 2\u001b[0m idh[\u001b[38;5;124m\"\u001b[39m\u001b[38;5;124mIDHM Renda 2010\u001b[39m\u001b[38;5;124m\"\u001b[39m] \u001b[38;5;241m=\u001b[39m \u001b[43midh\u001b[49m\u001b[43m[\u001b[49m\u001b[38;5;124;43m\"\u001b[39;49m\u001b[38;5;124;43mIDHM Renda 2010\u001b[39;49m\u001b[38;5;124;43m\"\u001b[39;49m\u001b[43m]\u001b[49m\u001b[38;5;241;43m.\u001b[39;49m\u001b[43mastype\u001b[49m\u001b[43m(\u001b[49m\u001b[38;5;28;43mfloat\u001b[39;49m\u001b[43m)\u001b[49m\n",
            "File \u001b[0;32m/lib/python3.10/site-packages/pandas/core/generic.py:6240\u001b[0m, in \u001b[0;36mNDFrame.astype\u001b[0;34m(self, dtype, copy, errors)\u001b[0m\n\u001b[1;32m   6233\u001b[0m     results \u001b[38;5;241m=\u001b[39m [\n\u001b[1;32m   6234\u001b[0m         \u001b[38;5;28mself\u001b[39m\u001b[38;5;241m.\u001b[39miloc[:, i]\u001b[38;5;241m.\u001b[39mastype(dtype, copy\u001b[38;5;241m=\u001b[39mcopy)\n\u001b[1;32m   6235\u001b[0m         \u001b[38;5;28;01mfor\u001b[39;00m i \u001b[38;5;129;01min\u001b[39;00m \u001b[38;5;28mrange\u001b[39m(\u001b[38;5;28mlen\u001b[39m(\u001b[38;5;28mself\u001b[39m\u001b[38;5;241m.\u001b[39mcolumns))\n\u001b[1;32m   6236\u001b[0m     ]\n\u001b[1;32m   6238\u001b[0m \u001b[38;5;28;01melse\u001b[39;00m:\n\u001b[1;32m   6239\u001b[0m     \u001b[38;5;66;03m# else, only a single dtype is given\u001b[39;00m\n\u001b[0;32m-> 6240\u001b[0m     new_data \u001b[38;5;241m=\u001b[39m \u001b[38;5;28;43mself\u001b[39;49m\u001b[38;5;241;43m.\u001b[39;49m\u001b[43m_mgr\u001b[49m\u001b[38;5;241;43m.\u001b[39;49m\u001b[43mastype\u001b[49m\u001b[43m(\u001b[49m\u001b[43mdtype\u001b[49m\u001b[38;5;241;43m=\u001b[39;49m\u001b[43mdtype\u001b[49m\u001b[43m,\u001b[49m\u001b[43m \u001b[49m\u001b[43mcopy\u001b[49m\u001b[38;5;241;43m=\u001b[39;49m\u001b[43mcopy\u001b[49m\u001b[43m,\u001b[49m\u001b[43m \u001b[49m\u001b[43merrors\u001b[49m\u001b[38;5;241;43m=\u001b[39;49m\u001b[43merrors\u001b[49m\u001b[43m)\u001b[49m\n\u001b[1;32m   6241\u001b[0m     \u001b[38;5;28;01mreturn\u001b[39;00m \u001b[38;5;28mself\u001b[39m\u001b[38;5;241m.\u001b[39m_constructor(new_data)\u001b[38;5;241m.\u001b[39m__finalize__(\u001b[38;5;28mself\u001b[39m, method\u001b[38;5;241m=\u001b[39m\u001b[38;5;124m\"\u001b[39m\u001b[38;5;124mastype\u001b[39m\u001b[38;5;124m\"\u001b[39m)\n\u001b[1;32m   6243\u001b[0m \u001b[38;5;66;03m# GH 33113: handle empty frame or series\u001b[39;00m\n",
            "File \u001b[0;32m/lib/python3.10/site-packages/pandas/core/internals/managers.py:450\u001b[0m, in \u001b[0;36mBaseBlockManager.astype\u001b[0;34m(self, dtype, copy, errors)\u001b[0m\n\u001b[1;32m    449\u001b[0m \u001b[38;5;28;01mdef\u001b[39;00m \u001b[38;5;21mastype\u001b[39m(\u001b[38;5;28mself\u001b[39m: T, dtype, copy: \u001b[38;5;28mbool\u001b[39m \u001b[38;5;241m=\u001b[39m \u001b[38;5;28;01mFalse\u001b[39;00m, errors: \u001b[38;5;28mstr\u001b[39m \u001b[38;5;241m=\u001b[39m \u001b[38;5;124m\"\u001b[39m\u001b[38;5;124mraise\u001b[39m\u001b[38;5;124m\"\u001b[39m) \u001b[38;5;241m-\u001b[39m\u001b[38;5;241m>\u001b[39m T:\n\u001b[0;32m--> 450\u001b[0m     \u001b[38;5;28;01mreturn\u001b[39;00m \u001b[38;5;28;43mself\u001b[39;49m\u001b[38;5;241;43m.\u001b[39;49m\u001b[43mapply\u001b[49m\u001b[43m(\u001b[49m\u001b[38;5;124;43m\"\u001b[39;49m\u001b[38;5;124;43mastype\u001b[39;49m\u001b[38;5;124;43m\"\u001b[39;49m\u001b[43m,\u001b[49m\u001b[43m \u001b[49m\u001b[43mdtype\u001b[49m\u001b[38;5;241;43m=\u001b[39;49m\u001b[43mdtype\u001b[49m\u001b[43m,\u001b[49m\u001b[43m \u001b[49m\u001b[43mcopy\u001b[49m\u001b[38;5;241;43m=\u001b[39;49m\u001b[43mcopy\u001b[49m\u001b[43m,\u001b[49m\u001b[43m \u001b[49m\u001b[43merrors\u001b[49m\u001b[38;5;241;43m=\u001b[39;49m\u001b[43merrors\u001b[49m\u001b[43m)\u001b[49m\n",
            "File \u001b[0;32m/lib/python3.10/site-packages/pandas/core/internals/managers.py:352\u001b[0m, in \u001b[0;36mBaseBlockManager.apply\u001b[0;34m(self, f, align_keys, ignore_failures, **kwargs)\u001b[0m\n\u001b[1;32m    350\u001b[0m         applied \u001b[38;5;241m=\u001b[39m b\u001b[38;5;241m.\u001b[39mapply(f, \u001b[38;5;241m*\u001b[39m\u001b[38;5;241m*\u001b[39mkwargs)\n\u001b[1;32m    351\u001b[0m     \u001b[38;5;28;01melse\u001b[39;00m:\n\u001b[0;32m--> 352\u001b[0m         applied \u001b[38;5;241m=\u001b[39m \u001b[38;5;28mgetattr\u001b[39m(b, f)(\u001b[38;5;241m*\u001b[39m\u001b[38;5;241m*\u001b[39mkwargs)\n\u001b[1;32m    353\u001b[0m \u001b[38;5;28;01mexcept\u001b[39;00m (\u001b[38;5;167;01mTypeError\u001b[39;00m, \u001b[38;5;167;01mNotImplementedError\u001b[39;00m):\n\u001b[1;32m    354\u001b[0m     \u001b[38;5;28;01mif\u001b[39;00m \u001b[38;5;129;01mnot\u001b[39;00m ignore_failures:\n",
            "File \u001b[0;32m/lib/python3.10/site-packages/pandas/core/internals/blocks.py:526\u001b[0m, in \u001b[0;36mBlock.astype\u001b[0;34m(self, dtype, copy, errors)\u001b[0m\n\u001b[1;32m    508\u001b[0m \u001b[38;5;124;03m\"\"\"\u001b[39;00m\n\u001b[1;32m    509\u001b[0m \u001b[38;5;124;03mCoerce to the new dtype.\u001b[39;00m\n\u001b[1;32m    510\u001b[0m \n\u001b[0;32m   (...)\u001b[0m\n\u001b[1;32m    522\u001b[0m \u001b[38;5;124;03mBlock\u001b[39;00m\n\u001b[1;32m    523\u001b[0m \u001b[38;5;124;03m\"\"\"\u001b[39;00m\n\u001b[1;32m    524\u001b[0m values \u001b[38;5;241m=\u001b[39m \u001b[38;5;28mself\u001b[39m\u001b[38;5;241m.\u001b[39mvalues\n\u001b[0;32m--> 526\u001b[0m new_values \u001b[38;5;241m=\u001b[39m \u001b[43mastype_array_safe\u001b[49m\u001b[43m(\u001b[49m\u001b[43mvalues\u001b[49m\u001b[43m,\u001b[49m\u001b[43m \u001b[49m\u001b[43mdtype\u001b[49m\u001b[43m,\u001b[49m\u001b[43m \u001b[49m\u001b[43mcopy\u001b[49m\u001b[38;5;241;43m=\u001b[39;49m\u001b[43mcopy\u001b[49m\u001b[43m,\u001b[49m\u001b[43m \u001b[49m\u001b[43merrors\u001b[49m\u001b[38;5;241;43m=\u001b[39;49m\u001b[43merrors\u001b[49m\u001b[43m)\u001b[49m\n\u001b[1;32m    528\u001b[0m new_values \u001b[38;5;241m=\u001b[39m maybe_coerce_values(new_values)\n\u001b[1;32m    529\u001b[0m newb \u001b[38;5;241m=\u001b[39m \u001b[38;5;28mself\u001b[39m\u001b[38;5;241m.\u001b[39mmake_block(new_values)\n",
            "File \u001b[0;32m/lib/python3.10/site-packages/pandas/core/dtypes/astype.py:299\u001b[0m, in \u001b[0;36mastype_array_safe\u001b[0;34m(values, dtype, copy, errors)\u001b[0m\n\u001b[1;32m    296\u001b[0m     \u001b[38;5;28;01mreturn\u001b[39;00m values\u001b[38;5;241m.\u001b[39mcopy()\n\u001b[1;32m    298\u001b[0m \u001b[38;5;28;01mtry\u001b[39;00m:\n\u001b[0;32m--> 299\u001b[0m     new_values \u001b[38;5;241m=\u001b[39m \u001b[43mastype_array\u001b[49m\u001b[43m(\u001b[49m\u001b[43mvalues\u001b[49m\u001b[43m,\u001b[49m\u001b[43m \u001b[49m\u001b[43mdtype\u001b[49m\u001b[43m,\u001b[49m\u001b[43m \u001b[49m\u001b[43mcopy\u001b[49m\u001b[38;5;241;43m=\u001b[39;49m\u001b[43mcopy\u001b[49m\u001b[43m)\u001b[49m\n\u001b[1;32m    300\u001b[0m \u001b[38;5;28;01mexcept\u001b[39;00m (\u001b[38;5;167;01mValueError\u001b[39;00m, \u001b[38;5;167;01mTypeError\u001b[39;00m):\n\u001b[1;32m    301\u001b[0m     \u001b[38;5;66;03m# e.g. astype_nansafe can fail on object-dtype of strings\u001b[39;00m\n\u001b[1;32m    302\u001b[0m     \u001b[38;5;66;03m#  trying to convert to float\u001b[39;00m\n\u001b[1;32m    303\u001b[0m     \u001b[38;5;28;01mif\u001b[39;00m errors \u001b[38;5;241m==\u001b[39m \u001b[38;5;124m\"\u001b[39m\u001b[38;5;124mignore\u001b[39m\u001b[38;5;124m\"\u001b[39m:\n",
            "File \u001b[0;32m/lib/python3.10/site-packages/pandas/core/dtypes/astype.py:230\u001b[0m, in \u001b[0;36mastype_array\u001b[0;34m(values, dtype, copy)\u001b[0m\n\u001b[1;32m    227\u001b[0m     values \u001b[38;5;241m=\u001b[39m values\u001b[38;5;241m.\u001b[39mastype(dtype, copy\u001b[38;5;241m=\u001b[39mcopy)\n\u001b[1;32m    229\u001b[0m \u001b[38;5;28;01melse\u001b[39;00m:\n\u001b[0;32m--> 230\u001b[0m     values \u001b[38;5;241m=\u001b[39m \u001b[43mastype_nansafe\u001b[49m\u001b[43m(\u001b[49m\u001b[43mvalues\u001b[49m\u001b[43m,\u001b[49m\u001b[43m \u001b[49m\u001b[43mdtype\u001b[49m\u001b[43m,\u001b[49m\u001b[43m \u001b[49m\u001b[43mcopy\u001b[49m\u001b[38;5;241;43m=\u001b[39;49m\u001b[43mcopy\u001b[49m\u001b[43m)\u001b[49m\n\u001b[1;32m    232\u001b[0m \u001b[38;5;66;03m# in pandas we don't store numpy str dtypes, so convert to object\u001b[39;00m\n\u001b[1;32m    233\u001b[0m \u001b[38;5;28;01mif\u001b[39;00m \u001b[38;5;28misinstance\u001b[39m(dtype, np\u001b[38;5;241m.\u001b[39mdtype) \u001b[38;5;129;01mand\u001b[39;00m \u001b[38;5;28missubclass\u001b[39m(values\u001b[38;5;241m.\u001b[39mdtype\u001b[38;5;241m.\u001b[39mtype, \u001b[38;5;28mstr\u001b[39m):\n",
            "File \u001b[0;32m/lib/python3.10/site-packages/pandas/core/dtypes/astype.py:170\u001b[0m, in \u001b[0;36mastype_nansafe\u001b[0;34m(arr, dtype, copy, skipna)\u001b[0m\n\u001b[1;32m    166\u001b[0m     \u001b[38;5;28;01mraise\u001b[39;00m \u001b[38;5;167;01mValueError\u001b[39;00m(msg)\n\u001b[1;32m    168\u001b[0m \u001b[38;5;28;01mif\u001b[39;00m copy \u001b[38;5;129;01mor\u001b[39;00m is_object_dtype(arr\u001b[38;5;241m.\u001b[39mdtype) \u001b[38;5;129;01mor\u001b[39;00m is_object_dtype(dtype):\n\u001b[1;32m    169\u001b[0m     \u001b[38;5;66;03m# Explicit copy, or required since NumPy can't view from / to object.\u001b[39;00m\n\u001b[0;32m--> 170\u001b[0m     \u001b[38;5;28;01mreturn\u001b[39;00m \u001b[43marr\u001b[49m\u001b[38;5;241;43m.\u001b[39;49m\u001b[43mastype\u001b[49m\u001b[43m(\u001b[49m\u001b[43mdtype\u001b[49m\u001b[43m,\u001b[49m\u001b[43m \u001b[49m\u001b[43mcopy\u001b[49m\u001b[38;5;241;43m=\u001b[39;49m\u001b[38;5;28;43;01mTrue\u001b[39;49;00m\u001b[43m)\u001b[49m\n\u001b[1;32m    172\u001b[0m \u001b[38;5;28;01mreturn\u001b[39;00m arr\u001b[38;5;241m.\u001b[39mastype(dtype, copy\u001b[38;5;241m=\u001b[39mcopy)\n",
            "\u001b[0;31mValueError\u001b[0m: could not convert string to float: '0.784td>'"
          ],
          "output_type": "error"
        }
      ]
    },
    {
      "cell_type": "code",
      "source": "#converter colunas para float: \"IDHM Longevidade 2010\"\nidh[\"IDHM Longevidade 2010\"] = idh[\"IDHM Longevidade 2010\"].astype(float)",
      "metadata": {
        "colab": {
          "base_uri": "https://localhost:8080/",
          "height": 347
        },
        "id": "HIkP-EjrO4NZ",
        "outputId": "02d5fdd4-31a5-41b3-c92d-fd6ff3051f91",
        "trusted": true
      },
      "execution_count": 9,
      "outputs": [
        {
          "ename": "<class 'ValueError'>",
          "evalue": "could not convert string to float: '0.779td>'",
          "traceback": [
            "\u001b[0;31m---------------------------------------------------------------------------\u001b[0m",
            "\u001b[0;31mValueError\u001b[0m                                Traceback (most recent call last)",
            "Cell \u001b[0;32mIn[9], line 2\u001b[0m\n\u001b[1;32m      1\u001b[0m \u001b[38;5;66;03m#converter colunas para float: \"IDHM Longevidade 2010\"\u001b[39;00m\n\u001b[0;32m----> 2\u001b[0m idh[\u001b[38;5;124m\"\u001b[39m\u001b[38;5;124mIDHM Longevidade 2010\u001b[39m\u001b[38;5;124m\"\u001b[39m] \u001b[38;5;241m=\u001b[39m \u001b[43midh\u001b[49m\u001b[43m[\u001b[49m\u001b[38;5;124;43m\"\u001b[39;49m\u001b[38;5;124;43mIDHM Longevidade 2010\u001b[39;49m\u001b[38;5;124;43m\"\u001b[39;49m\u001b[43m]\u001b[49m\u001b[38;5;241;43m.\u001b[39;49m\u001b[43mastype\u001b[49m\u001b[43m(\u001b[49m\u001b[38;5;28;43mfloat\u001b[39;49m\u001b[43m)\u001b[49m\n",
            "File \u001b[0;32m/lib/python3.10/site-packages/pandas/core/generic.py:6240\u001b[0m, in \u001b[0;36mNDFrame.astype\u001b[0;34m(self, dtype, copy, errors)\u001b[0m\n\u001b[1;32m   6233\u001b[0m     results \u001b[38;5;241m=\u001b[39m [\n\u001b[1;32m   6234\u001b[0m         \u001b[38;5;28mself\u001b[39m\u001b[38;5;241m.\u001b[39miloc[:, i]\u001b[38;5;241m.\u001b[39mastype(dtype, copy\u001b[38;5;241m=\u001b[39mcopy)\n\u001b[1;32m   6235\u001b[0m         \u001b[38;5;28;01mfor\u001b[39;00m i \u001b[38;5;129;01min\u001b[39;00m \u001b[38;5;28mrange\u001b[39m(\u001b[38;5;28mlen\u001b[39m(\u001b[38;5;28mself\u001b[39m\u001b[38;5;241m.\u001b[39mcolumns))\n\u001b[1;32m   6236\u001b[0m     ]\n\u001b[1;32m   6238\u001b[0m \u001b[38;5;28;01melse\u001b[39;00m:\n\u001b[1;32m   6239\u001b[0m     \u001b[38;5;66;03m# else, only a single dtype is given\u001b[39;00m\n\u001b[0;32m-> 6240\u001b[0m     new_data \u001b[38;5;241m=\u001b[39m \u001b[38;5;28;43mself\u001b[39;49m\u001b[38;5;241;43m.\u001b[39;49m\u001b[43m_mgr\u001b[49m\u001b[38;5;241;43m.\u001b[39;49m\u001b[43mastype\u001b[49m\u001b[43m(\u001b[49m\u001b[43mdtype\u001b[49m\u001b[38;5;241;43m=\u001b[39;49m\u001b[43mdtype\u001b[49m\u001b[43m,\u001b[49m\u001b[43m \u001b[49m\u001b[43mcopy\u001b[49m\u001b[38;5;241;43m=\u001b[39;49m\u001b[43mcopy\u001b[49m\u001b[43m,\u001b[49m\u001b[43m \u001b[49m\u001b[43merrors\u001b[49m\u001b[38;5;241;43m=\u001b[39;49m\u001b[43merrors\u001b[49m\u001b[43m)\u001b[49m\n\u001b[1;32m   6241\u001b[0m     \u001b[38;5;28;01mreturn\u001b[39;00m \u001b[38;5;28mself\u001b[39m\u001b[38;5;241m.\u001b[39m_constructor(new_data)\u001b[38;5;241m.\u001b[39m__finalize__(\u001b[38;5;28mself\u001b[39m, method\u001b[38;5;241m=\u001b[39m\u001b[38;5;124m\"\u001b[39m\u001b[38;5;124mastype\u001b[39m\u001b[38;5;124m\"\u001b[39m)\n\u001b[1;32m   6243\u001b[0m \u001b[38;5;66;03m# GH 33113: handle empty frame or series\u001b[39;00m\n",
            "File \u001b[0;32m/lib/python3.10/site-packages/pandas/core/internals/managers.py:450\u001b[0m, in \u001b[0;36mBaseBlockManager.astype\u001b[0;34m(self, dtype, copy, errors)\u001b[0m\n\u001b[1;32m    449\u001b[0m \u001b[38;5;28;01mdef\u001b[39;00m \u001b[38;5;21mastype\u001b[39m(\u001b[38;5;28mself\u001b[39m: T, dtype, copy: \u001b[38;5;28mbool\u001b[39m \u001b[38;5;241m=\u001b[39m \u001b[38;5;28;01mFalse\u001b[39;00m, errors: \u001b[38;5;28mstr\u001b[39m \u001b[38;5;241m=\u001b[39m \u001b[38;5;124m\"\u001b[39m\u001b[38;5;124mraise\u001b[39m\u001b[38;5;124m\"\u001b[39m) \u001b[38;5;241m-\u001b[39m\u001b[38;5;241m>\u001b[39m T:\n\u001b[0;32m--> 450\u001b[0m     \u001b[38;5;28;01mreturn\u001b[39;00m \u001b[38;5;28;43mself\u001b[39;49m\u001b[38;5;241;43m.\u001b[39;49m\u001b[43mapply\u001b[49m\u001b[43m(\u001b[49m\u001b[38;5;124;43m\"\u001b[39;49m\u001b[38;5;124;43mastype\u001b[39;49m\u001b[38;5;124;43m\"\u001b[39;49m\u001b[43m,\u001b[49m\u001b[43m \u001b[49m\u001b[43mdtype\u001b[49m\u001b[38;5;241;43m=\u001b[39;49m\u001b[43mdtype\u001b[49m\u001b[43m,\u001b[49m\u001b[43m \u001b[49m\u001b[43mcopy\u001b[49m\u001b[38;5;241;43m=\u001b[39;49m\u001b[43mcopy\u001b[49m\u001b[43m,\u001b[49m\u001b[43m \u001b[49m\u001b[43merrors\u001b[49m\u001b[38;5;241;43m=\u001b[39;49m\u001b[43merrors\u001b[49m\u001b[43m)\u001b[49m\n",
            "File \u001b[0;32m/lib/python3.10/site-packages/pandas/core/internals/managers.py:352\u001b[0m, in \u001b[0;36mBaseBlockManager.apply\u001b[0;34m(self, f, align_keys, ignore_failures, **kwargs)\u001b[0m\n\u001b[1;32m    350\u001b[0m         applied \u001b[38;5;241m=\u001b[39m b\u001b[38;5;241m.\u001b[39mapply(f, \u001b[38;5;241m*\u001b[39m\u001b[38;5;241m*\u001b[39mkwargs)\n\u001b[1;32m    351\u001b[0m     \u001b[38;5;28;01melse\u001b[39;00m:\n\u001b[0;32m--> 352\u001b[0m         applied \u001b[38;5;241m=\u001b[39m \u001b[38;5;28mgetattr\u001b[39m(b, f)(\u001b[38;5;241m*\u001b[39m\u001b[38;5;241m*\u001b[39mkwargs)\n\u001b[1;32m    353\u001b[0m \u001b[38;5;28;01mexcept\u001b[39;00m (\u001b[38;5;167;01mTypeError\u001b[39;00m, \u001b[38;5;167;01mNotImplementedError\u001b[39;00m):\n\u001b[1;32m    354\u001b[0m     \u001b[38;5;28;01mif\u001b[39;00m \u001b[38;5;129;01mnot\u001b[39;00m ignore_failures:\n",
            "File \u001b[0;32m/lib/python3.10/site-packages/pandas/core/internals/blocks.py:526\u001b[0m, in \u001b[0;36mBlock.astype\u001b[0;34m(self, dtype, copy, errors)\u001b[0m\n\u001b[1;32m    508\u001b[0m \u001b[38;5;124;03m\"\"\"\u001b[39;00m\n\u001b[1;32m    509\u001b[0m \u001b[38;5;124;03mCoerce to the new dtype.\u001b[39;00m\n\u001b[1;32m    510\u001b[0m \n\u001b[0;32m   (...)\u001b[0m\n\u001b[1;32m    522\u001b[0m \u001b[38;5;124;03mBlock\u001b[39;00m\n\u001b[1;32m    523\u001b[0m \u001b[38;5;124;03m\"\"\"\u001b[39;00m\n\u001b[1;32m    524\u001b[0m values \u001b[38;5;241m=\u001b[39m \u001b[38;5;28mself\u001b[39m\u001b[38;5;241m.\u001b[39mvalues\n\u001b[0;32m--> 526\u001b[0m new_values \u001b[38;5;241m=\u001b[39m \u001b[43mastype_array_safe\u001b[49m\u001b[43m(\u001b[49m\u001b[43mvalues\u001b[49m\u001b[43m,\u001b[49m\u001b[43m \u001b[49m\u001b[43mdtype\u001b[49m\u001b[43m,\u001b[49m\u001b[43m \u001b[49m\u001b[43mcopy\u001b[49m\u001b[38;5;241;43m=\u001b[39;49m\u001b[43mcopy\u001b[49m\u001b[43m,\u001b[49m\u001b[43m \u001b[49m\u001b[43merrors\u001b[49m\u001b[38;5;241;43m=\u001b[39;49m\u001b[43merrors\u001b[49m\u001b[43m)\u001b[49m\n\u001b[1;32m    528\u001b[0m new_values \u001b[38;5;241m=\u001b[39m maybe_coerce_values(new_values)\n\u001b[1;32m    529\u001b[0m newb \u001b[38;5;241m=\u001b[39m \u001b[38;5;28mself\u001b[39m\u001b[38;5;241m.\u001b[39mmake_block(new_values)\n",
            "File \u001b[0;32m/lib/python3.10/site-packages/pandas/core/dtypes/astype.py:299\u001b[0m, in \u001b[0;36mastype_array_safe\u001b[0;34m(values, dtype, copy, errors)\u001b[0m\n\u001b[1;32m    296\u001b[0m     \u001b[38;5;28;01mreturn\u001b[39;00m values\u001b[38;5;241m.\u001b[39mcopy()\n\u001b[1;32m    298\u001b[0m \u001b[38;5;28;01mtry\u001b[39;00m:\n\u001b[0;32m--> 299\u001b[0m     new_values \u001b[38;5;241m=\u001b[39m \u001b[43mastype_array\u001b[49m\u001b[43m(\u001b[49m\u001b[43mvalues\u001b[49m\u001b[43m,\u001b[49m\u001b[43m \u001b[49m\u001b[43mdtype\u001b[49m\u001b[43m,\u001b[49m\u001b[43m \u001b[49m\u001b[43mcopy\u001b[49m\u001b[38;5;241;43m=\u001b[39;49m\u001b[43mcopy\u001b[49m\u001b[43m)\u001b[49m\n\u001b[1;32m    300\u001b[0m \u001b[38;5;28;01mexcept\u001b[39;00m (\u001b[38;5;167;01mValueError\u001b[39;00m, \u001b[38;5;167;01mTypeError\u001b[39;00m):\n\u001b[1;32m    301\u001b[0m     \u001b[38;5;66;03m# e.g. astype_nansafe can fail on object-dtype of strings\u001b[39;00m\n\u001b[1;32m    302\u001b[0m     \u001b[38;5;66;03m#  trying to convert to float\u001b[39;00m\n\u001b[1;32m    303\u001b[0m     \u001b[38;5;28;01mif\u001b[39;00m errors \u001b[38;5;241m==\u001b[39m \u001b[38;5;124m\"\u001b[39m\u001b[38;5;124mignore\u001b[39m\u001b[38;5;124m\"\u001b[39m:\n",
            "File \u001b[0;32m/lib/python3.10/site-packages/pandas/core/dtypes/astype.py:230\u001b[0m, in \u001b[0;36mastype_array\u001b[0;34m(values, dtype, copy)\u001b[0m\n\u001b[1;32m    227\u001b[0m     values \u001b[38;5;241m=\u001b[39m values\u001b[38;5;241m.\u001b[39mastype(dtype, copy\u001b[38;5;241m=\u001b[39mcopy)\n\u001b[1;32m    229\u001b[0m \u001b[38;5;28;01melse\u001b[39;00m:\n\u001b[0;32m--> 230\u001b[0m     values \u001b[38;5;241m=\u001b[39m \u001b[43mastype_nansafe\u001b[49m\u001b[43m(\u001b[49m\u001b[43mvalues\u001b[49m\u001b[43m,\u001b[49m\u001b[43m \u001b[49m\u001b[43mdtype\u001b[49m\u001b[43m,\u001b[49m\u001b[43m \u001b[49m\u001b[43mcopy\u001b[49m\u001b[38;5;241;43m=\u001b[39;49m\u001b[43mcopy\u001b[49m\u001b[43m)\u001b[49m\n\u001b[1;32m    232\u001b[0m \u001b[38;5;66;03m# in pandas we don't store numpy str dtypes, so convert to object\u001b[39;00m\n\u001b[1;32m    233\u001b[0m \u001b[38;5;28;01mif\u001b[39;00m \u001b[38;5;28misinstance\u001b[39m(dtype, np\u001b[38;5;241m.\u001b[39mdtype) \u001b[38;5;129;01mand\u001b[39;00m \u001b[38;5;28missubclass\u001b[39m(values\u001b[38;5;241m.\u001b[39mdtype\u001b[38;5;241m.\u001b[39mtype, \u001b[38;5;28mstr\u001b[39m):\n",
            "File \u001b[0;32m/lib/python3.10/site-packages/pandas/core/dtypes/astype.py:170\u001b[0m, in \u001b[0;36mastype_nansafe\u001b[0;34m(arr, dtype, copy, skipna)\u001b[0m\n\u001b[1;32m    166\u001b[0m     \u001b[38;5;28;01mraise\u001b[39;00m \u001b[38;5;167;01mValueError\u001b[39;00m(msg)\n\u001b[1;32m    168\u001b[0m \u001b[38;5;28;01mif\u001b[39;00m copy \u001b[38;5;129;01mor\u001b[39;00m is_object_dtype(arr\u001b[38;5;241m.\u001b[39mdtype) \u001b[38;5;129;01mor\u001b[39;00m is_object_dtype(dtype):\n\u001b[1;32m    169\u001b[0m     \u001b[38;5;66;03m# Explicit copy, or required since NumPy can't view from / to object.\u001b[39;00m\n\u001b[0;32m--> 170\u001b[0m     \u001b[38;5;28;01mreturn\u001b[39;00m \u001b[43marr\u001b[49m\u001b[38;5;241;43m.\u001b[39;49m\u001b[43mastype\u001b[49m\u001b[43m(\u001b[49m\u001b[43mdtype\u001b[49m\u001b[43m,\u001b[49m\u001b[43m \u001b[49m\u001b[43mcopy\u001b[49m\u001b[38;5;241;43m=\u001b[39;49m\u001b[38;5;28;43;01mTrue\u001b[39;49;00m\u001b[43m)\u001b[49m\n\u001b[1;32m    172\u001b[0m \u001b[38;5;28;01mreturn\u001b[39;00m arr\u001b[38;5;241m.\u001b[39mastype(dtype, copy\u001b[38;5;241m=\u001b[39mcopy)\n",
            "\u001b[0;31mValueError\u001b[0m: could not convert string to float: '0.779td>'"
          ],
          "output_type": "error"
        }
      ]
    },
    {
      "cell_type": "code",
      "source": "#converter colunas para float: \"IDHM Educação 2010\"\nidh[\"IDHM Educação 2010\"] = idh[\"IDHM Educação 2010\"].astype(float)",
      "metadata": {
        "id": "PQ9aXs3cO4gb",
        "trusted": true
      },
      "execution_count": 10,
      "outputs": []
    },
    {
      "cell_type": "code",
      "source": "# foi possível apenas para as colunas IDHM 2010 e IDHM Educação 2010\n# as colunas 'IDHM Longevidade 2010' e 'IDHM Renda 2010' tem caracteres junto com os números\nidh['IDHM Longevidade 2010'].sort_values().unique()",
      "metadata": {
        "colab": {
          "base_uri": "https://localhost:8080/"
        },
        "id": "udgHREevwOiq",
        "outputId": "0f0e5c27-1c27-48bc-af90-5b81c187d4d8",
        "trusted": true
      },
      "execution_count": 11,
      "outputs": [
        {
          "execution_count": 11,
          "output_type": "execute_result",
          "data": {
            "text/plain": "array(['0.672', '0.673', '0.675', '0.676', '0.677', '0.680', '0.681',\n       '0.682', '0.683', '0.684', '0.685', '0.686', '0.687', '0.688',\n       '0.689', '0.690', '0.691', '0.692', '0.693', '0.694', '0.695',\n       '0.696', '0.697', '0.698', '0.699', '0.700', '0.701', '0.702',\n       '0.703', '0.704', '0.705', '0.706', '0.707', '0.708', '0.709',\n       '0.710', '0.711', '0.712', '0.713', '0.714', '0.715', '0.716',\n       '0.717', '0.718', '0.719', '0.720', '0.721', '0.722', '0.723',\n       '0.724', '0.725', '0.726', '0.727', '0.728', '0.729', '0.730',\n       '0.731', '0.732', '0.733', '0.734', '0.735', '0.736', '0.737',\n       '0.738', '0.739', '0.740', '0.741', '0.742', '0.743', '0.744',\n       '0.745', '0.746', '0.747', '0.748', '0.749', '0.750', '0.751',\n       '0.752', '0.753', '0.754', '0.755', '0.756', '0.757', '0.758',\n       '0.759', '0.760', '0.761', '0.762', '0.763', '0.764', '0.765',\n       '0.766', '0.767', '0.768', '0.769', '0.770', '0.771', '0.772',\n       '0.773', '0.774', '0.775', '0.776', '0.777', '0.778', '0.779',\n       '0.779td>', '0.780', '0.781', '0.782', '0.783', '0.784', '0.785',\n       '0.786', '0.787', '0.788', '0.789', '0.790', '0.791', '0.792',\n       '0.793', '0.794', '0.795', '0.796', '0.797', '0.798', '0.799',\n       '0.800', '0.801', '0.802', '0.803', '0.804', '0.805', '0.806',\n       '0.807', '0.808', '0.809', '0.810', '0.811', '0.812', '0.813',\n       '0.814', '0.815', '0.816', '0.817', '0.818', '0.819', '0.820',\n       '0.821', '0.822', '0.823', '0.824', '0.825', '0.826', '0.827',\n       '0.828', '0.829', '0.830', '0.831', '0.832', '0.833', '0.834',\n       '0.835', '0.836', '0.837', '0.838', '0.839', '0.840', '0.841',\n       '0.842', '0.843', '0.844', '0.845', '0.846', '0.847', '0.848',\n       '0.849', '0.850', '0.851', '0.852', '0.853', '0.854', '0.855',\n       '0.856', '0.857', '0.858', '0.859', '0.860', '0.861', '0.862',\n       '0.863', '0.864', '0.865', '0.866', '0.867', '0.868', '0.869',\n       '0.870', '0.871', '0.872', '0.873', '0.874', '0.875', '0.876',\n       '0.877', '0.878', '0.879', '0.880', '0.881', '0.882', '0.883',\n       '0.884', '0.885', '0.886', '0.887', '0.888', '0.889', '0.890',\n       '0.891', '0.892', '0.893', '0.894'], dtype=object)"
          },
          "metadata": {}
        }
      ]
    },
    {
      "cell_type": "code",
      "source": "# outra forma de localizar os registros com caracteres: .str.contains()\nidh[idh[\"IDHM Renda 2010\"].str.contains('td')]",
      "metadata": {
        "trusted": true
      },
      "execution_count": 12,
      "outputs": [
        {
          "execution_count": 12,
          "output_type": "execute_result",
          "data": {
            "text/plain": "     Ranking IDHM 2010                    Município  IDHM 2010  \\\n297              289 º            Não-Me-Toque (RS)      0.765   \n2690            2691 º         Coronel Pacheco (MG)      0.669   \n4769            4764 º  São Félix do Tocantins (TO)      0.574   \n\n     IDHM Renda 2010 IDHM Longevidade 2010  IDHM Educação 2010  \n297         0.784td>                 0.847               0.673  \n2690        0.673td>                 0.789               0.565  \n4769        0.550td>                 0.771               0.446  ",
            "text/html": "<div>\n<style scoped>\n    .dataframe tbody tr th:only-of-type {\n        vertical-align: middle;\n    }\n\n    .dataframe tbody tr th {\n        vertical-align: top;\n    }\n\n    .dataframe thead th {\n        text-align: right;\n    }\n</style>\n<table border=\"1\" class=\"dataframe\">\n  <thead>\n    <tr style=\"text-align: right;\">\n      <th></th>\n      <th>Ranking IDHM 2010</th>\n      <th>Município</th>\n      <th>IDHM 2010</th>\n      <th>IDHM Renda 2010</th>\n      <th>IDHM Longevidade 2010</th>\n      <th>IDHM Educação 2010</th>\n    </tr>\n  </thead>\n  <tbody>\n    <tr>\n      <th>297</th>\n      <td>289 º</td>\n      <td>Não-Me-Toque (RS)</td>\n      <td>0.765</td>\n      <td>0.784td&gt;</td>\n      <td>0.847</td>\n      <td>0.673</td>\n    </tr>\n    <tr>\n      <th>2690</th>\n      <td>2691 º</td>\n      <td>Coronel Pacheco (MG)</td>\n      <td>0.669</td>\n      <td>0.673td&gt;</td>\n      <td>0.789</td>\n      <td>0.565</td>\n    </tr>\n    <tr>\n      <th>4769</th>\n      <td>4764 º</td>\n      <td>São Félix do Tocantins (TO)</td>\n      <td>0.574</td>\n      <td>0.550td&gt;</td>\n      <td>0.771</td>\n      <td>0.446</td>\n    </tr>\n  </tbody>\n</table>\n</div>"
          },
          "metadata": {}
        }
      ]
    },
    {
      "cell_type": "code",
      "source": "# consultar também a coluna 'IDHM Longevidade 2010'\nidh[idh['IDHM Longevidade 2010'].str.contains('td')]",
      "metadata": {
        "trusted": true
      },
      "execution_count": 13,
      "outputs": [
        {
          "execution_count": 13,
          "output_type": "execute_result",
          "data": {
            "text/plain": "     Ranking IDHM 2010               Município  IDHM 2010 IDHM Renda 2010  \\\n3876            3866 º  Santana do Cariri (CE)      0.612           0.527   \n\n     IDHM Longevidade 2010  IDHM Educação 2010  \n3876              0.779td>               0.557  ",
            "text/html": "<div>\n<style scoped>\n    .dataframe tbody tr th:only-of-type {\n        vertical-align: middle;\n    }\n\n    .dataframe tbody tr th {\n        vertical-align: top;\n    }\n\n    .dataframe thead th {\n        text-align: right;\n    }\n</style>\n<table border=\"1\" class=\"dataframe\">\n  <thead>\n    <tr style=\"text-align: right;\">\n      <th></th>\n      <th>Ranking IDHM 2010</th>\n      <th>Município</th>\n      <th>IDHM 2010</th>\n      <th>IDHM Renda 2010</th>\n      <th>IDHM Longevidade 2010</th>\n      <th>IDHM Educação 2010</th>\n    </tr>\n  </thead>\n  <tbody>\n    <tr>\n      <th>3876</th>\n      <td>3866 º</td>\n      <td>Santana do Cariri (CE)</td>\n      <td>0.612</td>\n      <td>0.527</td>\n      <td>0.779td&gt;</td>\n      <td>0.557</td>\n    </tr>\n  </tbody>\n</table>\n</div>"
          },
          "metadata": {}
        }
      ]
    },
    {
      "cell_type": "markdown",
      "source": "### Regex\n\nRegex (ou expressões regulares) é uma sequência de caracteres que forma um padrão de busca. Elas são amplamente utilizadas em programação e processamento de texto para realizar tarefas como **busca**, **validação**, **substituição** e **extração** de informações com base em determinados padrões.\n\nUsando as expressões regulares, é possível criar **padrões flexíveis e poderosos** para encontrar e manipular texto de forma eficiente. Elas podem ser usadas em várias linguagens de programação, como Python, JavaScript, Java, entre outras, geralmente por meio de bibliotecas específicas que oferecem suporte a expressões regulares, como o módulo re no Python.\n\nAlgumas das principais aplicações das expressões regulares incluem:\n\n1) Buscar e extrair informações de textos, como encontrar todas as ocorrências de uma determinada palavra ou padrão.\n\n2) Realizar validações, como verificar se um endereço de e-mail está no formato correto.\n\n3) Realizar substituições e formatações de texto, como substituir todas as ocorrências de uma palavra por outra.\n\n4) Analisar e processar dados estruturados, como arquivos CSV ou log de eventos.\n\nNo entanto, é importante mencionar que a criação e compreensão de expressões regulares podem ser complexas, pois existem muitas regras e recursos para aprender. É recomendável consultar a documentação da linguagem ou biblioteca específica que você está usando para obter mais informações sobre a sintaxe e os recursos disponíveis para expressões regulares.",
      "metadata": {}
    },
    {
      "cell_type": "code",
      "source": "# importar a biblioteca regex\nimport re\nprint(re.__version__)",
      "metadata": {
        "trusted": true
      },
      "execution_count": 14,
      "outputs": [
        {
          "name": "stdout",
          "text": "2.2.1\n",
          "output_type": "stream"
        }
      ]
    },
    {
      "cell_type": "code",
      "source": "# usando regex\n# consultar o significado do padrão regex em: https://regexr.com/\nidh[idh[\"IDHM Renda 2010\"].str.contains('[^0-9.]')]",
      "metadata": {
        "trusted": true
      },
      "execution_count": 15,
      "outputs": [
        {
          "execution_count": 15,
          "output_type": "execute_result",
          "data": {
            "text/plain": "     Ranking IDHM 2010                    Município  IDHM 2010  \\\n297              289 º            Não-Me-Toque (RS)      0.765   \n2690            2691 º         Coronel Pacheco (MG)      0.669   \n4769            4764 º  São Félix do Tocantins (TO)      0.574   \n\n     IDHM Renda 2010 IDHM Longevidade 2010  IDHM Educação 2010  \n297         0.784td>                 0.847               0.673  \n2690        0.673td>                 0.789               0.565  \n4769        0.550td>                 0.771               0.446  ",
            "text/html": "<div>\n<style scoped>\n    .dataframe tbody tr th:only-of-type {\n        vertical-align: middle;\n    }\n\n    .dataframe tbody tr th {\n        vertical-align: top;\n    }\n\n    .dataframe thead th {\n        text-align: right;\n    }\n</style>\n<table border=\"1\" class=\"dataframe\">\n  <thead>\n    <tr style=\"text-align: right;\">\n      <th></th>\n      <th>Ranking IDHM 2010</th>\n      <th>Município</th>\n      <th>IDHM 2010</th>\n      <th>IDHM Renda 2010</th>\n      <th>IDHM Longevidade 2010</th>\n      <th>IDHM Educação 2010</th>\n    </tr>\n  </thead>\n  <tbody>\n    <tr>\n      <th>297</th>\n      <td>289 º</td>\n      <td>Não-Me-Toque (RS)</td>\n      <td>0.765</td>\n      <td>0.784td&gt;</td>\n      <td>0.847</td>\n      <td>0.673</td>\n    </tr>\n    <tr>\n      <th>2690</th>\n      <td>2691 º</td>\n      <td>Coronel Pacheco (MG)</td>\n      <td>0.669</td>\n      <td>0.673td&gt;</td>\n      <td>0.789</td>\n      <td>0.565</td>\n    </tr>\n    <tr>\n      <th>4769</th>\n      <td>4764 º</td>\n      <td>São Félix do Tocantins (TO)</td>\n      <td>0.574</td>\n      <td>0.550td&gt;</td>\n      <td>0.771</td>\n      <td>0.446</td>\n    </tr>\n  </tbody>\n</table>\n</div>"
          },
          "metadata": {}
        }
      ]
    },
    {
      "cell_type": "code",
      "source": "# vamos tratar o erro substituindo os caracteres não numéricos\n# Opção 1: .str.replace()\nidh['IDHM Renda 2010'] = idh['IDHM Renda 2010'].str.replace('td>', '')\nidh['IDHM Longevidade 2010'] = idh['IDHM Longevidade 2010'].str.replace('td>', '')",
      "metadata": {
        "id": "RPdJzlYVuADK",
        "trusted": true
      },
      "execution_count": 16,
      "outputs": []
    },
    {
      "cell_type": "code",
      "source": "## Opção 2: usar regex\n# etapa para considerar apenas caracteres numéricos (0 a 9) e ponto (.)\n# idh['IDHM Renda 2010'] = idh['IDHM Renda 2010'].str.replace('[^0-9.]', '')\n# idh['IDHM Longevidade 2010'] = idh['IDHM Longevidade 2010'].str.replace('[^0-9.]', '')",
      "metadata": {
        "id": "LCEDKk4kxTwW",
        "trusted": true
      },
      "execution_count": 17,
      "outputs": []
    },
    {
      "cell_type": "code",
      "source": "# converter para float após tratamento do erro: astype(tipo)\nidh[\"IDHM Renda 2010\"] = idh[\"IDHM Renda 2010\"].astype(float)\nidh[\"IDHM Longevidade 2010\"] = idh[\"IDHM Longevidade 2010\"].astype(float)",
      "metadata": {
        "id": "_p-gVRRJw2QW",
        "trusted": true
      },
      "execution_count": 18,
      "outputs": []
    },
    {
      "cell_type": "code",
      "source": "# checar tipo das colunas\nidh.info()",
      "metadata": {
        "colab": {
          "base_uri": "https://localhost:8080/"
        },
        "id": "8ZNPaM2VIdES",
        "outputId": "3fc39b71-f667-4543-cfb6-a822e9ef8c49",
        "trusted": true
      },
      "execution_count": 19,
      "outputs": [
        {
          "name": "stdout",
          "text": "<class 'pandas.core.frame.DataFrame'>\nRangeIndex: 5565 entries, 0 to 5564\nData columns (total 6 columns):\n #   Column                 Non-Null Count  Dtype  \n---  ------                 --------------  -----  \n 0   Ranking IDHM 2010      5565 non-null   object \n 1   Município              5565 non-null   object \n 2   IDHM 2010              5565 non-null   float64\n 3   IDHM Renda 2010        5565 non-null   float64\n 4   IDHM Longevidade 2010  5565 non-null   float64\n 5   IDHM Educação 2010     5565 non-null   float64\ndtypes: float64(4), object(2)\nmemory usage: 217.4+ KB\n",
          "output_type": "stream"
        }
      ]
    },
    {
      "cell_type": "code",
      "source": "# checar as estatísticas das colunas numéricas: .describe()\nidh.describe()",
      "metadata": {
        "colab": {
          "base_uri": "https://localhost:8080/",
          "height": 300
        },
        "id": "cW2xG5elOZMK",
        "outputId": "ff19e74c-d70f-4bfb-c379-42df10c0975f",
        "trusted": true
      },
      "execution_count": 20,
      "outputs": [
        {
          "execution_count": 20,
          "output_type": "execute_result",
          "data": {
            "text/plain": "         IDHM 2010  IDHM Renda 2010  IDHM Longevidade 2010  IDHM Educação 2010\ncount  5565.000000      5565.000000            5565.000000         5565.000000\nmean      0.659157         0.642873               0.801564            0.559094\nstd       0.071997         0.080662               0.044681            0.093328\nmin       0.418000         0.400000               0.672000            0.207000\n25%       0.599000         0.572000               0.769000            0.490000\n50%       0.665000         0.654000               0.808000            0.560000\n75%       0.718000         0.707000               0.836000            0.631000\nmax       0.862000         0.891000               0.894000            0.825000",
            "text/html": "<div>\n<style scoped>\n    .dataframe tbody tr th:only-of-type {\n        vertical-align: middle;\n    }\n\n    .dataframe tbody tr th {\n        vertical-align: top;\n    }\n\n    .dataframe thead th {\n        text-align: right;\n    }\n</style>\n<table border=\"1\" class=\"dataframe\">\n  <thead>\n    <tr style=\"text-align: right;\">\n      <th></th>\n      <th>IDHM 2010</th>\n      <th>IDHM Renda 2010</th>\n      <th>IDHM Longevidade 2010</th>\n      <th>IDHM Educação 2010</th>\n    </tr>\n  </thead>\n  <tbody>\n    <tr>\n      <th>count</th>\n      <td>5565.000000</td>\n      <td>5565.000000</td>\n      <td>5565.000000</td>\n      <td>5565.000000</td>\n    </tr>\n    <tr>\n      <th>mean</th>\n      <td>0.659157</td>\n      <td>0.642873</td>\n      <td>0.801564</td>\n      <td>0.559094</td>\n    </tr>\n    <tr>\n      <th>std</th>\n      <td>0.071997</td>\n      <td>0.080662</td>\n      <td>0.044681</td>\n      <td>0.093328</td>\n    </tr>\n    <tr>\n      <th>min</th>\n      <td>0.418000</td>\n      <td>0.400000</td>\n      <td>0.672000</td>\n      <td>0.207000</td>\n    </tr>\n    <tr>\n      <th>25%</th>\n      <td>0.599000</td>\n      <td>0.572000</td>\n      <td>0.769000</td>\n      <td>0.490000</td>\n    </tr>\n    <tr>\n      <th>50%</th>\n      <td>0.665000</td>\n      <td>0.654000</td>\n      <td>0.808000</td>\n      <td>0.560000</td>\n    </tr>\n    <tr>\n      <th>75%</th>\n      <td>0.718000</td>\n      <td>0.707000</td>\n      <td>0.836000</td>\n      <td>0.631000</td>\n    </tr>\n    <tr>\n      <th>max</th>\n      <td>0.862000</td>\n      <td>0.891000</td>\n      <td>0.894000</td>\n      <td>0.825000</td>\n    </tr>\n  </tbody>\n</table>\n</div>"
          },
          "metadata": {}
        }
      ]
    },
    {
      "cell_type": "markdown",
      "source": "## 3º Passo do Tratamento\n\nSeparar Município e UF em colunas distintas.",
      "metadata": {}
    },
    {
      "cell_type": "code",
      "source": "# separar município de UF\n# visualizar o cabeçalho do dataframe\nidh.head()",
      "metadata": {
        "trusted": true
      },
      "execution_count": 21,
      "outputs": [
        {
          "execution_count": 21,
          "output_type": "execute_result",
          "data": {
            "text/plain": "  Ranking IDHM 2010                Município  IDHM 2010  IDHM Renda 2010  \\\n0               1 º  São Caetano do Sul (SP)      0.862            0.891   \n1               2 º  Águas de São Pedro (SP)      0.854            0.849   \n2               3 º       Florianópolis (SC)      0.847            0.870   \n3               4 º  Balneário Camboriú (SC)      0.845            0.854   \n4               4 º             Vitória (ES)      0.845            0.876   \n\n   IDHM Longevidade 2010  IDHM Educação 2010  \n0                  0.887               0.811  \n1                  0.890               0.825  \n2                  0.873               0.800  \n3                  0.894               0.789  \n4                  0.855               0.805  ",
            "text/html": "<div>\n<style scoped>\n    .dataframe tbody tr th:only-of-type {\n        vertical-align: middle;\n    }\n\n    .dataframe tbody tr th {\n        vertical-align: top;\n    }\n\n    .dataframe thead th {\n        text-align: right;\n    }\n</style>\n<table border=\"1\" class=\"dataframe\">\n  <thead>\n    <tr style=\"text-align: right;\">\n      <th></th>\n      <th>Ranking IDHM 2010</th>\n      <th>Município</th>\n      <th>IDHM 2010</th>\n      <th>IDHM Renda 2010</th>\n      <th>IDHM Longevidade 2010</th>\n      <th>IDHM Educação 2010</th>\n    </tr>\n  </thead>\n  <tbody>\n    <tr>\n      <th>0</th>\n      <td>1 º</td>\n      <td>São Caetano do Sul (SP)</td>\n      <td>0.862</td>\n      <td>0.891</td>\n      <td>0.887</td>\n      <td>0.811</td>\n    </tr>\n    <tr>\n      <th>1</th>\n      <td>2 º</td>\n      <td>Águas de São Pedro (SP)</td>\n      <td>0.854</td>\n      <td>0.849</td>\n      <td>0.890</td>\n      <td>0.825</td>\n    </tr>\n    <tr>\n      <th>2</th>\n      <td>3 º</td>\n      <td>Florianópolis (SC)</td>\n      <td>0.847</td>\n      <td>0.870</td>\n      <td>0.873</td>\n      <td>0.800</td>\n    </tr>\n    <tr>\n      <th>3</th>\n      <td>4 º</td>\n      <td>Balneário Camboriú (SC)</td>\n      <td>0.845</td>\n      <td>0.854</td>\n      <td>0.894</td>\n      <td>0.789</td>\n    </tr>\n    <tr>\n      <th>4</th>\n      <td>4 º</td>\n      <td>Vitória (ES)</td>\n      <td>0.845</td>\n      <td>0.876</td>\n      <td>0.855</td>\n      <td>0.805</td>\n    </tr>\n  </tbody>\n</table>\n</div>"
          },
          "metadata": {}
        }
      ]
    },
    {
      "cell_type": "code",
      "source": "# separar (split) pelo caracter '(' jogando para uma nova coluna\nidh[['municipio_original','UF']]= idh['Município'].str.split(' \\(', expand=True)\nidh[['municipio_original','UF']]",
      "metadata": {
        "trusted": true
      },
      "execution_count": 22,
      "outputs": [
        {
          "execution_count": 22,
          "output_type": "execute_result",
          "data": {
            "text/plain": "      municipio_original   UF\n0     São Caetano do Sul  SP)\n1     Águas de São Pedro  SP)\n2          Florianópolis  SC)\n3     Balneário Camboriú  SC)\n4                Vitória  ES)\n...                  ...  ...\n5560            Uiramutã  RR)\n5561      Marajá do Sena  MA)\n5562    Atalaia do Norte  AM)\n5563     Fernando Falcão  MA)\n5564             Melgaço  PA)\n\n[5565 rows x 2 columns]",
            "text/html": "<div>\n<style scoped>\n    .dataframe tbody tr th:only-of-type {\n        vertical-align: middle;\n    }\n\n    .dataframe tbody tr th {\n        vertical-align: top;\n    }\n\n    .dataframe thead th {\n        text-align: right;\n    }\n</style>\n<table border=\"1\" class=\"dataframe\">\n  <thead>\n    <tr style=\"text-align: right;\">\n      <th></th>\n      <th>municipio_original</th>\n      <th>UF</th>\n    </tr>\n  </thead>\n  <tbody>\n    <tr>\n      <th>0</th>\n      <td>São Caetano do Sul</td>\n      <td>SP)</td>\n    </tr>\n    <tr>\n      <th>1</th>\n      <td>Águas de São Pedro</td>\n      <td>SP)</td>\n    </tr>\n    <tr>\n      <th>2</th>\n      <td>Florianópolis</td>\n      <td>SC)</td>\n    </tr>\n    <tr>\n      <th>3</th>\n      <td>Balneário Camboriú</td>\n      <td>SC)</td>\n    </tr>\n    <tr>\n      <th>4</th>\n      <td>Vitória</td>\n      <td>ES)</td>\n    </tr>\n    <tr>\n      <th>...</th>\n      <td>...</td>\n      <td>...</td>\n    </tr>\n    <tr>\n      <th>5560</th>\n      <td>Uiramutã</td>\n      <td>RR)</td>\n    </tr>\n    <tr>\n      <th>5561</th>\n      <td>Marajá do Sena</td>\n      <td>MA)</td>\n    </tr>\n    <tr>\n      <th>5562</th>\n      <td>Atalaia do Norte</td>\n      <td>AM)</td>\n    </tr>\n    <tr>\n      <th>5563</th>\n      <td>Fernando Falcão</td>\n      <td>MA)</td>\n    </tr>\n    <tr>\n      <th>5564</th>\n      <td>Melgaço</td>\n      <td>PA)</td>\n    </tr>\n  </tbody>\n</table>\n<p>5565 rows × 2 columns</p>\n</div>"
          },
          "metadata": {}
        }
      ]
    },
    {
      "cell_type": "code",
      "source": "# retirar o caractere ')'\nidh['UF'] = idh['UF'].str.replace(')', '')\nidh.head()",
      "metadata": {
        "colab": {
          "base_uri": "https://localhost:8080/",
          "height": 354
        },
        "id": "q4lkaJOYx5uF",
        "outputId": "8886def1-0f4f-496f-c0e5-e835928d9b8e",
        "trusted": true
      },
      "execution_count": 23,
      "outputs": [
        {
          "execution_count": 23,
          "output_type": "execute_result",
          "data": {
            "text/plain": "  Ranking IDHM 2010                Município  IDHM 2010  IDHM Renda 2010  \\\n0               1 º  São Caetano do Sul (SP)      0.862            0.891   \n1               2 º  Águas de São Pedro (SP)      0.854            0.849   \n2               3 º       Florianópolis (SC)      0.847            0.870   \n3               4 º  Balneário Camboriú (SC)      0.845            0.854   \n4               4 º             Vitória (ES)      0.845            0.876   \n\n   IDHM Longevidade 2010  IDHM Educação 2010  municipio_original  UF  \n0                  0.887               0.811  São Caetano do Sul  SP  \n1                  0.890               0.825  Águas de São Pedro  SP  \n2                  0.873               0.800       Florianópolis  SC  \n3                  0.894               0.789  Balneário Camboriú  SC  \n4                  0.855               0.805             Vitória  ES  ",
            "text/html": "<div>\n<style scoped>\n    .dataframe tbody tr th:only-of-type {\n        vertical-align: middle;\n    }\n\n    .dataframe tbody tr th {\n        vertical-align: top;\n    }\n\n    .dataframe thead th {\n        text-align: right;\n    }\n</style>\n<table border=\"1\" class=\"dataframe\">\n  <thead>\n    <tr style=\"text-align: right;\">\n      <th></th>\n      <th>Ranking IDHM 2010</th>\n      <th>Município</th>\n      <th>IDHM 2010</th>\n      <th>IDHM Renda 2010</th>\n      <th>IDHM Longevidade 2010</th>\n      <th>IDHM Educação 2010</th>\n      <th>municipio_original</th>\n      <th>UF</th>\n    </tr>\n  </thead>\n  <tbody>\n    <tr>\n      <th>0</th>\n      <td>1 º</td>\n      <td>São Caetano do Sul (SP)</td>\n      <td>0.862</td>\n      <td>0.891</td>\n      <td>0.887</td>\n      <td>0.811</td>\n      <td>São Caetano do Sul</td>\n      <td>SP</td>\n    </tr>\n    <tr>\n      <th>1</th>\n      <td>2 º</td>\n      <td>Águas de São Pedro (SP)</td>\n      <td>0.854</td>\n      <td>0.849</td>\n      <td>0.890</td>\n      <td>0.825</td>\n      <td>Águas de São Pedro</td>\n      <td>SP</td>\n    </tr>\n    <tr>\n      <th>2</th>\n      <td>3 º</td>\n      <td>Florianópolis (SC)</td>\n      <td>0.847</td>\n      <td>0.870</td>\n      <td>0.873</td>\n      <td>0.800</td>\n      <td>Florianópolis</td>\n      <td>SC</td>\n    </tr>\n    <tr>\n      <th>3</th>\n      <td>4 º</td>\n      <td>Balneário Camboriú (SC)</td>\n      <td>0.845</td>\n      <td>0.854</td>\n      <td>0.894</td>\n      <td>0.789</td>\n      <td>Balneário Camboriú</td>\n      <td>SC</td>\n    </tr>\n    <tr>\n      <th>4</th>\n      <td>4 º</td>\n      <td>Vitória (ES)</td>\n      <td>0.845</td>\n      <td>0.876</td>\n      <td>0.855</td>\n      <td>0.805</td>\n      <td>Vitória</td>\n      <td>ES</td>\n    </tr>\n  </tbody>\n</table>\n</div>"
          },
          "metadata": {}
        }
      ]
    },
    {
      "cell_type": "markdown",
      "source": "## 4º Passo do Tratamento\n\nRetirar os acentos dos nomes dos municípios e colocar no padrão caixa alta.",
      "metadata": {}
    },
    {
      "cell_type": "markdown",
      "source": "### Normalização Unidecode\n\nA normalização de Unicode é um processo que visa transformar diferentes formas de representação de caracteres Unicode em uma forma canônica, simplificando assim a comparação e manipulação de texto que pode conter caracteres acentuados, diacríticos ou outras formas de representação variantes.\n\nA função **unicodedata.normalize()** recebe dois argumentos: o primeiro é uma string que representa o **tipo de normalização desejado**, e o segundo é a **string que será normalizada**.\n\nO tipo de normalização 'NFKD' representa a forma de normalização \"compatibilidade com decomposição canônica\". Isso significa que ele divide os caracteres acentuados ou com diacríticos em seu equivalente separado (base + marca) para uma representação mais básica e canônica.",
      "metadata": {}
    },
    {
      "cell_type": "code",
      "source": "# importar a unicodedata\nimport unicodedata",
      "metadata": {
        "id": "L23Cvj2By1l2",
        "trusted": true
      },
      "execution_count": 24,
      "outputs": []
    },
    {
      "cell_type": "code",
      "source": "# utilizando a função unicodedata.normalize\n# forma de normalização: NFKD\n# exemplo\nfor ch in unicodedata.normalize('NFKD', 'São José'):\n  print(ch)",
      "metadata": {
        "colab": {
          "base_uri": "https://localhost:8080/"
        },
        "id": "ewRcHLve1mYs",
        "outputId": "c969d749-216e-492b-f40b-2a39f26ba496",
        "trusted": true
      },
      "execution_count": 25,
      "outputs": [
        {
          "name": "stdout",
          "text": "S\na\ñ\no\n \nJ\no\ns\ne\ń\n",
          "output_type": "stream"
        }
      ]
    },
    {
      "cell_type": "code",
      "source": "# a fução unicodedata.combining() indica se o caracter é de combinação ou não.\n# os caracteres de combinação retornam um valor diferente de 0\n# Exemplo: \"é\" é o resultado de \"e\" + \"´\"\n# nesse caso, o \"e\" retorna 0 e o \"´\" retorna 230\nfor ch in unicodedata.normalize('NFKD', 'São José'):\n  print(f'caracter: {ch}, combining: {unicodedata.combining(ch)}')",
      "metadata": {
        "colab": {
          "base_uri": "https://localhost:8080/"
        },
        "id": "qQ6u-oRM10dE",
        "outputId": "77808019-a1ed-4fdf-eac3-860acda83ff3",
        "trusted": true
      },
      "execution_count": 26,
      "outputs": [
        {
          "name": "stdout",
          "text": "caracter: S, combining: 0\ncaracter: a, combining: 0\ncaracter: ̃, combining: 230\ncaracter: o, combining: 0\ncaracter:  , combining: 0\ncaracter: J, combining: 0\ncaracter: o, combining: 0\ncaracter: s, combining: 0\ncaracter: e, combining: 0\ncaracter: ́, combining: 230\n",
          "output_type": "stream"
        }
      ]
    },
    {
      "cell_type": "code",
      "source": "# criar uma função que refaz a string, caracter por caracter, utilizando apenas os caracteres que não são de combinação\ndef altera_string(municipio):\n    municipio_alterado = []\n    for ch in unicodedata.normalize('NFKD', municipio):\n        if unicodedata.combining(ch) == 0:\n            municipio_alterado.append(ch)\n    municipio = ''.join(municipio_alterado)\n    return municipio",
      "metadata": {
        "trusted": true
      },
      "execution_count": 27,
      "outputs": []
    },
    {
      "cell_type": "code",
      "source": "## outra forma de escrever essa mesma função\n#def altera_string(municipio):\n#    municipio_alterado = ''.join(ch for ch in unicodedata.normalize('NFKD', municipio) \n#                                 if not unicodedata.combining(ch))\n#    return municipio_alterado",
      "metadata": {
        "id": "Ybv4wmv5zAxP",
        "trusted": true
      },
      "execution_count": null,
      "outputs": []
    },
    {
      "cell_type": "markdown",
      "source": "### Lambda\n\nUma **expressão lambda** (ou simplesmente lambda) é uma função anônima que pode ser definida em linha e sem a necessidade de ser nomeada. Ela é uma forma concisa de criar funções de forma rápida e simples.\n\nEm Python, uma expressão lambda é criada usando a palavra-chave **lambda**, seguida de uma lista de parâmetros separados por vírgulas, seguida por dois pontos :, e finalmente a expressão que define o comportamento da função. A sintaxe geral é a seguinte:\n\nlambda argumentos : expressão\n\nAs expressões lambda são frequentemente usadas em conjunto com funções de ordem superior, como **map()**, **filter()**, **reduce()**, onde podem ser passadas como argumentos para essas funções, permitindo um código mais conciso e legível.\n\nVale ressaltar que, apesar de serem úteis em muitos casos, expressões lambda podem se tornar complexas e difíceis de ler quando envolvem lógica mais elaborada. Nesses casos, é recomendado usar funções nomeadas (definidas com a palavra-chave **def**) para uma maior clareza e manutenibilidade do código.",
      "metadata": {}
    },
    {
      "cell_type": "code",
      "source": "# chamar a função usando lambda e já alterando para caixa alta\nidh['municipio_nfkd'] = idh['municipio_original'].apply(lambda x: altera_string(x)).str.upper()\nidh.head(20)",
      "metadata": {
        "colab": {
          "base_uri": "https://localhost:8080/",
          "height": 354
        },
        "id": "tgNveCzd3UF5",
        "outputId": "0bb83973-7c9a-4407-fbd0-a8475f8d4e1d",
        "trusted": true
      },
      "execution_count": 28,
      "outputs": [
        {
          "execution_count": 28,
          "output_type": "execute_result",
          "data": {
            "text/plain": "  Ranking IDHM 2010                Município  IDHM 2010  IDHM Renda 2010  \\\n0               1 º  São Caetano do Sul (SP)      0.862            0.891   \n1               2 º  Águas de São Pedro (SP)      0.854            0.849   \n2               3 º       Florianópolis (SC)      0.847            0.870   \n3               4 º  Balneário Camboriú (SC)      0.845            0.854   \n4               4 º             Vitória (ES)      0.845            0.876   \n\n   IDHM Longevidade 2010  IDHM Educação 2010  municipio_original  UF  \\\n0                  0.887               0.811  São Caetano do Sul  SP   \n1                  0.890               0.825  Águas de São Pedro  SP   \n2                  0.873               0.800       Florianópolis  SC   \n3                  0.894               0.789  Balneário Camboriú  SC   \n4                  0.855               0.805             Vitória  ES   \n\n       municipio_nfkd  \n0  SAO CAETANO DO SUL  \n1  AGUAS DE SAO PEDRO  \n2       FLORIANOPOLIS  \n3  BALNEARIO CAMBORIU  \n4             VITORIA  ",
            "text/html": "<div>\n<style scoped>\n    .dataframe tbody tr th:only-of-type {\n        vertical-align: middle;\n    }\n\n    .dataframe tbody tr th {\n        vertical-align: top;\n    }\n\n    .dataframe thead th {\n        text-align: right;\n    }\n</style>\n<table border=\"1\" class=\"dataframe\">\n  <thead>\n    <tr style=\"text-align: right;\">\n      <th></th>\n      <th>Ranking IDHM 2010</th>\n      <th>Município</th>\n      <th>IDHM 2010</th>\n      <th>IDHM Renda 2010</th>\n      <th>IDHM Longevidade 2010</th>\n      <th>IDHM Educação 2010</th>\n      <th>municipio_original</th>\n      <th>UF</th>\n      <th>municipio_nfkd</th>\n    </tr>\n  </thead>\n  <tbody>\n    <tr>\n      <th>0</th>\n      <td>1 º</td>\n      <td>São Caetano do Sul (SP)</td>\n      <td>0.862</td>\n      <td>0.891</td>\n      <td>0.887</td>\n      <td>0.811</td>\n      <td>São Caetano do Sul</td>\n      <td>SP</td>\n      <td>SAO CAETANO DO SUL</td>\n    </tr>\n    <tr>\n      <th>1</th>\n      <td>2 º</td>\n      <td>Águas de São Pedro (SP)</td>\n      <td>0.854</td>\n      <td>0.849</td>\n      <td>0.890</td>\n      <td>0.825</td>\n      <td>Águas de São Pedro</td>\n      <td>SP</td>\n      <td>AGUAS DE SAO PEDRO</td>\n    </tr>\n    <tr>\n      <th>2</th>\n      <td>3 º</td>\n      <td>Florianópolis (SC)</td>\n      <td>0.847</td>\n      <td>0.870</td>\n      <td>0.873</td>\n      <td>0.800</td>\n      <td>Florianópolis</td>\n      <td>SC</td>\n      <td>FLORIANOPOLIS</td>\n    </tr>\n    <tr>\n      <th>3</th>\n      <td>4 º</td>\n      <td>Balneário Camboriú (SC)</td>\n      <td>0.845</td>\n      <td>0.854</td>\n      <td>0.894</td>\n      <td>0.789</td>\n      <td>Balneário Camboriú</td>\n      <td>SC</td>\n      <td>BALNEARIO CAMBORIU</td>\n    </tr>\n    <tr>\n      <th>4</th>\n      <td>4 º</td>\n      <td>Vitória (ES)</td>\n      <td>0.845</td>\n      <td>0.876</td>\n      <td>0.855</td>\n      <td>0.805</td>\n      <td>Vitória</td>\n      <td>ES</td>\n      <td>VITORIA</td>\n    </tr>\n  </tbody>\n</table>\n</div>"
          },
          "metadata": {}
        }
      ]
    },
    {
      "cell_type": "markdown",
      "source": "## 5º Passo do Tratamento\n\nDeixar apenas as colunas transformadas na ordem correta.",
      "metadata": {}
    },
    {
      "cell_type": "code",
      "source": "# descartar colunas intermediárias\nidh.drop(columns=['Município', 'municipio_original'], inplace=True)",
      "metadata": {
        "id": "uq8U3pZ03ew7",
        "trusted": true
      },
      "execution_count": 32,
      "outputs": []
    },
    {
      "cell_type": "code",
      "source": "# renomear coluna transformada\nidh.rename(columns={'municipio_nfkd' : 'Município'}, inplace=True)\nidh.info()",
      "metadata": {
        "id": "w6DqQ0C33ozp",
        "trusted": true
      },
      "execution_count": 33,
      "outputs": [
        {
          "name": "stdout",
          "text": "<class 'pandas.core.frame.DataFrame'>\nRangeIndex: 5565 entries, 0 to 5564\nData columns (total 7 columns):\n #   Column                 Non-Null Count  Dtype  \n---  ------                 --------------  -----  \n 0   Ranking IDHM 2010      5565 non-null   object \n 1   IDHM 2010              5565 non-null   float64\n 2   IDHM Renda 2010        5565 non-null   float64\n 3   IDHM Longevidade 2010  5565 non-null   float64\n 4   IDHM Educação 2010     5565 non-null   float64\n 5   UF                     5565 non-null   object \n 6   Município              5565 non-null   object \ndtypes: float64(4), object(3)\nmemory usage: 239.2+ KB\n",
          "output_type": "stream"
        }
      ]
    },
    {
      "cell_type": "code",
      "source": "# reordenar as colunas\n# ['Ranking IDHM 2010', 'Município', 'UF', 'IDHM 2010', 'IDHM Renda 2010', 'IDHM Longevidade 2010', 'IDHM Educação 2010']\nidh = idh[['Ranking IDHM 2010', 'Município', 'UF', 'IDHM 2010', 'IDHM Renda 2010', 'IDHM Longevidade 2010', 'IDHM Educação 2010']]\nidh.info()",
      "metadata": {
        "colab": {
          "base_uri": "https://localhost:8080/"
        },
        "id": "lWGtIERP4H7F",
        "outputId": "ce864cff-0b0c-4c6d-8399-49cafa28a732",
        "trusted": true
      },
      "execution_count": 34,
      "outputs": [
        {
          "name": "stdout",
          "text": "<class 'pandas.core.frame.DataFrame'>\nRangeIndex: 5565 entries, 0 to 5564\nData columns (total 7 columns):\n #   Column                 Non-Null Count  Dtype  \n---  ------                 --------------  -----  \n 0   Ranking IDHM 2010      5565 non-null   object \n 1   Município              5565 non-null   object \n 2   UF                     5565 non-null   object \n 3   IDHM 2010              5565 non-null   float64\n 4   IDHM Renda 2010        5565 non-null   float64\n 5   IDHM Longevidade 2010  5565 non-null   float64\n 6   IDHM Educação 2010     5565 non-null   float64\ndtypes: float64(4), object(3)\nmemory usage: 239.2+ KB\n",
          "output_type": "stream"
        }
      ]
    },
    {
      "cell_type": "markdown",
      "source": "## Carregamento dos dados\n\nNo nosso caso, vamos gerar um arquivo csv a partir da tabela tratada.",
      "metadata": {}
    },
    {
      "cell_type": "code",
      "source": "# jogar a tabela tratada para um csv\nidh.to_csv('idh_novo.csv', index=False)",
      "metadata": {
        "id": "FbpKLK2334qX",
        "trusted": true
      },
      "execution_count": 35,
      "outputs": []
    },
    {
      "cell_type": "markdown",
      "source": "# Desafio: \nGerar um novo notebook com a rotina de tratamento do DataFrame idh mantendo apenas as instruções essenciais para conversão da tabela.\n\nAo final, contar a quantidade de células e/ou comandos resultantes e comparar com este Notebook.\n\nExemplo de \"limpeza\" do Notebook final: \n\n- retirar comandos de consulta visual, erros, opções de tratamento não utilizadas e exemplos explicativos.\n\n- manter comentários explicativos dos comandos utilizados, apenas.",
      "metadata": {}
    },
    {
      "cell_type": "code",
      "source": "",
      "metadata": {},
      "execution_count": null,
      "outputs": []
    }
  ]
}